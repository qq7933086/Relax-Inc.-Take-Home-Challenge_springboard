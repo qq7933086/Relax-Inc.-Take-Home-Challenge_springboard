{
 "cells": [
  {
   "cell_type": "code",
   "execution_count": 1,
   "id": "d42e51b7",
   "metadata": {},
   "outputs": [],
   "source": [
    "import pandas as pd\n",
    "import numpy as np\n",
    "import matplotlib.pyplot as plt\n",
    "import seaborn as sns\n",
    "from datetime import datetime\n",
    "\n",
    "%matplotlib inline "
   ]
  },
  {
   "cell_type": "markdown",
   "id": "5856091a",
   "metadata": {},
   "source": [
    "# 1 Load Data"
   ]
  },
  {
   "cell_type": "markdown",
   "id": "c5d61923",
   "metadata": {},
   "source": [
    "## 1.1 Load \"takehome_users\" "
   ]
  },
  {
   "cell_type": "code",
   "execution_count": 2,
   "id": "ba0f95e6",
   "metadata": {},
   "outputs": [],
   "source": [
    "user_df = pd.read_csv('takehome_users.csv', encoding='latin-1')\n"
   ]
  },
  {
   "cell_type": "code",
   "execution_count": 3,
   "id": "91fe2619",
   "metadata": {
    "scrolled": true
   },
   "outputs": [
    {
     "data": {
      "text/html": [
       "<div>\n",
       "<style scoped>\n",
       "    .dataframe tbody tr th:only-of-type {\n",
       "        vertical-align: middle;\n",
       "    }\n",
       "\n",
       "    .dataframe tbody tr th {\n",
       "        vertical-align: top;\n",
       "    }\n",
       "\n",
       "    .dataframe thead th {\n",
       "        text-align: right;\n",
       "    }\n",
       "</style>\n",
       "<table border=\"1\" class=\"dataframe\">\n",
       "  <thead>\n",
       "    <tr style=\"text-align: right;\">\n",
       "      <th></th>\n",
       "      <th>object_id</th>\n",
       "      <th>creation_time</th>\n",
       "      <th>name</th>\n",
       "      <th>email</th>\n",
       "      <th>creation_source</th>\n",
       "      <th>last_session_creation_time</th>\n",
       "      <th>opted_in_to_mailing_list</th>\n",
       "      <th>enabled_for_marketing_drip</th>\n",
       "      <th>org_id</th>\n",
       "      <th>invited_by_user_id</th>\n",
       "    </tr>\n",
       "  </thead>\n",
       "  <tbody>\n",
       "    <tr>\n",
       "      <th>11995</th>\n",
       "      <td>11996</td>\n",
       "      <td>2013-09-06 06:14:15</td>\n",
       "      <td>Meier Sophia</td>\n",
       "      <td>SophiaMeier@gustr.com</td>\n",
       "      <td>ORG_INVITE</td>\n",
       "      <td>1.378448e+09</td>\n",
       "      <td>0</td>\n",
       "      <td>0</td>\n",
       "      <td>89</td>\n",
       "      <td>8263.0</td>\n",
       "    </tr>\n",
       "    <tr>\n",
       "      <th>11996</th>\n",
       "      <td>11997</td>\n",
       "      <td>2013-01-10 18:28:37</td>\n",
       "      <td>Fisher Amelie</td>\n",
       "      <td>AmelieFisher@gmail.com</td>\n",
       "      <td>SIGNUP_GOOGLE_AUTH</td>\n",
       "      <td>1.358275e+09</td>\n",
       "      <td>0</td>\n",
       "      <td>0</td>\n",
       "      <td>200</td>\n",
       "      <td>NaN</td>\n",
       "    </tr>\n",
       "    <tr>\n",
       "      <th>11997</th>\n",
       "      <td>11998</td>\n",
       "      <td>2014-04-27 12:45:16</td>\n",
       "      <td>Haynes Jake</td>\n",
       "      <td>JakeHaynes@cuvox.de</td>\n",
       "      <td>GUEST_INVITE</td>\n",
       "      <td>1.398603e+09</td>\n",
       "      <td>1</td>\n",
       "      <td>1</td>\n",
       "      <td>83</td>\n",
       "      <td>8074.0</td>\n",
       "    </tr>\n",
       "    <tr>\n",
       "      <th>11998</th>\n",
       "      <td>11999</td>\n",
       "      <td>2012-05-31 11:55:59</td>\n",
       "      <td>Faber Annett</td>\n",
       "      <td>mhaerzxp@iuxiw.com</td>\n",
       "      <td>PERSONAL_PROJECTS</td>\n",
       "      <td>1.338638e+09</td>\n",
       "      <td>0</td>\n",
       "      <td>0</td>\n",
       "      <td>6</td>\n",
       "      <td>NaN</td>\n",
       "    </tr>\n",
       "    <tr>\n",
       "      <th>11999</th>\n",
       "      <td>12000</td>\n",
       "      <td>2014-01-26 08:57:12</td>\n",
       "      <td>Lima Thaís</td>\n",
       "      <td>ThaisMeloLima@hotmail.com</td>\n",
       "      <td>SIGNUP</td>\n",
       "      <td>1.390727e+09</td>\n",
       "      <td>0</td>\n",
       "      <td>1</td>\n",
       "      <td>0</td>\n",
       "      <td>NaN</td>\n",
       "    </tr>\n",
       "  </tbody>\n",
       "</table>\n",
       "</div>"
      ],
      "text/plain": [
       "       object_id        creation_time           name  \\\n",
       "11995      11996  2013-09-06 06:14:15   Meier Sophia   \n",
       "11996      11997  2013-01-10 18:28:37  Fisher Amelie   \n",
       "11997      11998  2014-04-27 12:45:16    Haynes Jake   \n",
       "11998      11999  2012-05-31 11:55:59   Faber Annett   \n",
       "11999      12000  2014-01-26 08:57:12     Lima Thaís   \n",
       "\n",
       "                           email     creation_source  \\\n",
       "11995      SophiaMeier@gustr.com          ORG_INVITE   \n",
       "11996     AmelieFisher@gmail.com  SIGNUP_GOOGLE_AUTH   \n",
       "11997        JakeHaynes@cuvox.de        GUEST_INVITE   \n",
       "11998         mhaerzxp@iuxiw.com   PERSONAL_PROJECTS   \n",
       "11999  ThaisMeloLima@hotmail.com              SIGNUP   \n",
       "\n",
       "       last_session_creation_time  opted_in_to_mailing_list  \\\n",
       "11995                1.378448e+09                         0   \n",
       "11996                1.358275e+09                         0   \n",
       "11997                1.398603e+09                         1   \n",
       "11998                1.338638e+09                         0   \n",
       "11999                1.390727e+09                         0   \n",
       "\n",
       "       enabled_for_marketing_drip  org_id  invited_by_user_id  \n",
       "11995                           0      89              8263.0  \n",
       "11996                           0     200                 NaN  \n",
       "11997                           1      83              8074.0  \n",
       "11998                           0       6                 NaN  \n",
       "11999                           1       0                 NaN  "
      ]
     },
     "execution_count": 3,
     "metadata": {},
     "output_type": "execute_result"
    }
   ],
   "source": [
    "user_df.tail()"
   ]
  },
  {
   "cell_type": "code",
   "execution_count": 4,
   "id": "4eee04b5",
   "metadata": {},
   "outputs": [],
   "source": [
    "user_df.rename(columns = {'object_id':'user_id'}, inplace = True)"
   ]
  },
  {
   "cell_type": "code",
   "execution_count": 5,
   "id": "ed37fb62",
   "metadata": {
    "scrolled": true
   },
   "outputs": [
    {
     "data": {
      "text/plain": [
       "user_id                         int64\n",
       "creation_time                  object\n",
       "name                           object\n",
       "email                          object\n",
       "creation_source                object\n",
       "last_session_creation_time    float64\n",
       "opted_in_to_mailing_list        int64\n",
       "enabled_for_marketing_drip      int64\n",
       "org_id                          int64\n",
       "invited_by_user_id            float64\n",
       "dtype: object"
      ]
     },
     "execution_count": 5,
     "metadata": {},
     "output_type": "execute_result"
    }
   ],
   "source": [
    "user_df.dtypes"
   ]
  },
  {
   "cell_type": "code",
   "execution_count": 6,
   "id": "6829bf17",
   "metadata": {
    "scrolled": true
   },
   "outputs": [
    {
     "data": {
      "text/plain": [
       "user_id                          0\n",
       "creation_time                    0\n",
       "name                             0\n",
       "email                            0\n",
       "creation_source                  0\n",
       "last_session_creation_time    3177\n",
       "opted_in_to_mailing_list         0\n",
       "enabled_for_marketing_drip       0\n",
       "org_id                           0\n",
       "invited_by_user_id            5583\n",
       "dtype: int64"
      ]
     },
     "execution_count": 6,
     "metadata": {},
     "output_type": "execute_result"
    }
   ],
   "source": [
    "user_df.isnull().sum()"
   ]
  },
  {
   "cell_type": "code",
   "execution_count": 7,
   "id": "f3ab5db1",
   "metadata": {},
   "outputs": [
    {
     "data": {
      "text/plain": [
       "ORG_INVITE            4254\n",
       "GUEST_INVITE          2163\n",
       "PERSONAL_PROJECTS     2111\n",
       "SIGNUP                2087\n",
       "SIGNUP_GOOGLE_AUTH    1385\n",
       "Name: creation_source, dtype: int64"
      ]
     },
     "execution_count": 7,
     "metadata": {},
     "output_type": "execute_result"
    }
   ],
   "source": [
    "user_df['creation_source'].value_counts()"
   ]
  },
  {
   "cell_type": "markdown",
   "id": "0b5a1fb4",
   "metadata": {},
   "source": [
    "Five types of creation_source (how user's account was created) include:\n",
    "* PERSONAL_PROJECTS: invited to join another user's personal workspace\n",
    "* GUEST_INVITE: invited to an organization as a guest (limited permissions)\n",
    "* ORG_INVITE: invited to an organization (as a full member)\n",
    "* SIGNUP: signed up via the website\n",
    "* SIGNUP_GOOGLE_AUTH: signed up using Google Authentication (using a Google email account for their login id)"
   ]
  },
  {
   "cell_type": "code",
   "execution_count": 8,
   "id": "e97f4c06",
   "metadata": {},
   "outputs": [],
   "source": [
    "user_df['last_session_creation_time'] = pd.to_datetime(user_df['last_session_creation_time'],unit='s')\n",
    "user_df['creation_time'] = pd.to_datetime(user_df['creation_time'])"
   ]
  },
  {
   "cell_type": "markdown",
   "id": "9945cdca",
   "metadata": {},
   "source": [
    "Check values of the `int` type:"
   ]
  },
  {
   "cell_type": "code",
   "execution_count": 9,
   "id": "b72a8af1",
   "metadata": {},
   "outputs": [
    {
     "data": {
      "text/plain": [
       "0    9006\n",
       "1    2994\n",
       "Name: opted_in_to_mailing_list, dtype: int64"
      ]
     },
     "execution_count": 9,
     "metadata": {},
     "output_type": "execute_result"
    }
   ],
   "source": [
    "user_df['opted_in_to_mailing_list'].value_counts()"
   ]
  },
  {
   "cell_type": "code",
   "execution_count": 10,
   "id": "f8e8c0c2",
   "metadata": {},
   "outputs": [
    {
     "data": {
      "text/plain": [
       "0    10208\n",
       "1     1792\n",
       "Name: enabled_for_marketing_drip, dtype: int64"
      ]
     },
     "execution_count": 10,
     "metadata": {},
     "output_type": "execute_result"
    }
   ],
   "source": [
    "user_df['enabled_for_marketing_drip'].value_counts() "
   ]
  },
  {
   "cell_type": "markdown",
   "id": "88e330db",
   "metadata": {},
   "source": [
    "Columns `opted_in_to_mailing_list` and `enabled_for_marketing_drip` are unbalanced"
   ]
  },
  {
   "cell_type": "code",
   "execution_count": 11,
   "id": "e8fc1b38",
   "metadata": {},
   "outputs": [
    {
     "data": {
      "text/plain": [
       "0      319\n",
       "1      233\n",
       "2      201\n",
       "3      168\n",
       "4      159\n",
       "      ... \n",
       "396      9\n",
       "397      8\n",
       "400      8\n",
       "386      7\n",
       "416      2\n",
       "Name: org_id, Length: 417, dtype: int64"
      ]
     },
     "execution_count": 11,
     "metadata": {},
     "output_type": "execute_result"
    }
   ],
   "source": [
    "user_df['org_id'] = user_df['org_id'].astype('str')\n",
    "user_df['org_id'].value_counts()"
   ]
  },
  {
   "cell_type": "markdown",
   "id": "c5b483b6",
   "metadata": {},
   "source": [
    "`org_id` (the organization that users belong to) have 417 unique groups"
   ]
  },
  {
   "cell_type": "markdown",
   "id": "851b5579",
   "metadata": {},
   "source": [
    "Change data types:"
   ]
  },
  {
   "cell_type": "code",
   "execution_count": 12,
   "id": "440a4118",
   "metadata": {},
   "outputs": [],
   "source": [
    "user_df['user_id'] = user_df['user_id'].astype(str)"
   ]
  },
  {
   "cell_type": "code",
   "execution_count": 13,
   "id": "71b13637",
   "metadata": {},
   "outputs": [],
   "source": [
    "user_df['invited_by_user_id'] = user_df['invited_by_user_id'].fillna(-1)\n",
    "user_df['invited_by_user_id'] = user_df['invited_by_user_id'].astype(int)\n",
    "user_df['invited_by_user_id'] = user_df['invited_by_user_id'].astype(str)\n",
    "user_df['invited_by_user_id'] = user_df['invited_by_user_id'].replace('-1', np.nan)"
   ]
  },
  {
   "cell_type": "code",
   "execution_count": 14,
   "id": "3d397d55",
   "metadata": {},
   "outputs": [],
   "source": [
    "user_df['invited'] = (~user_df['invited_by_user_id'].isnull())"
   ]
  },
  {
   "cell_type": "code",
   "execution_count": 15,
   "id": "b3b39bf0",
   "metadata": {},
   "outputs": [],
   "source": [
    "user_df['invited'] = user_df['invited'].replace({True:1,False:0})"
   ]
  },
  {
   "cell_type": "code",
   "execution_count": 16,
   "id": "786029c4",
   "metadata": {},
   "outputs": [],
   "source": [
    "user_df['active_duration'] = user_df['last_session_creation_time'] - user_df['creation_time']\n",
    "user_df['active_duration'] = user_df['active_duration'].dt.days\n",
    "user_df['active_duration'].fillna(0, inplace = True) "
   ]
  },
  {
   "cell_type": "markdown",
   "id": "236841a5",
   "metadata": {},
   "source": [
    "## 1.2 Load usage summary table "
   ]
  },
  {
   "cell_type": "code",
   "execution_count": 17,
   "id": "8940c3c7",
   "metadata": {},
   "outputs": [],
   "source": [
    "eng_df = pd.read_csv('takehome_user_engagement.csv')"
   ]
  },
  {
   "cell_type": "code",
   "execution_count": 18,
   "id": "fa149b91",
   "metadata": {
    "scrolled": false
   },
   "outputs": [
    {
     "name": "stdout",
     "output_type": "stream",
     "text": [
      "<class 'pandas.core.frame.DataFrame'>\n",
      "RangeIndex: 207917 entries, 0 to 207916\n",
      "Data columns (total 3 columns):\n",
      " #   Column      Non-Null Count   Dtype \n",
      "---  ------      --------------   ----- \n",
      " 0   time_stamp  207917 non-null  object\n",
      " 1   user_id     207917 non-null  int64 \n",
      " 2   visited     207917 non-null  int64 \n",
      "dtypes: int64(2), object(1)\n",
      "memory usage: 4.8+ MB\n"
     ]
    }
   ],
   "source": [
    "eng_df.info()"
   ]
  },
  {
   "cell_type": "code",
   "execution_count": 19,
   "id": "3747cb70",
   "metadata": {},
   "outputs": [],
   "source": [
    "eng_df['time_stamp'] = pd.to_datetime(eng_df['time_stamp'])"
   ]
  },
  {
   "cell_type": "code",
   "execution_count": 20,
   "id": "d39c04cd",
   "metadata": {},
   "outputs": [
    {
     "data": {
      "text/html": [
       "<div>\n",
       "<style scoped>\n",
       "    .dataframe tbody tr th:only-of-type {\n",
       "        vertical-align: middle;\n",
       "    }\n",
       "\n",
       "    .dataframe tbody tr th {\n",
       "        vertical-align: top;\n",
       "    }\n",
       "\n",
       "    .dataframe thead th {\n",
       "        text-align: right;\n",
       "    }\n",
       "</style>\n",
       "<table border=\"1\" class=\"dataframe\">\n",
       "  <thead>\n",
       "    <tr style=\"text-align: right;\">\n",
       "      <th></th>\n",
       "      <th>time_stamp</th>\n",
       "      <th>user_id</th>\n",
       "      <th>visited</th>\n",
       "    </tr>\n",
       "  </thead>\n",
       "  <tbody>\n",
       "    <tr>\n",
       "      <th>0</th>\n",
       "      <td>2014-04-22 03:53:30</td>\n",
       "      <td>1</td>\n",
       "      <td>1</td>\n",
       "    </tr>\n",
       "    <tr>\n",
       "      <th>1</th>\n",
       "      <td>2013-11-15 03:45:04</td>\n",
       "      <td>2</td>\n",
       "      <td>1</td>\n",
       "    </tr>\n",
       "    <tr>\n",
       "      <th>2</th>\n",
       "      <td>2013-11-29 03:45:04</td>\n",
       "      <td>2</td>\n",
       "      <td>1</td>\n",
       "    </tr>\n",
       "    <tr>\n",
       "      <th>3</th>\n",
       "      <td>2013-12-09 03:45:04</td>\n",
       "      <td>2</td>\n",
       "      <td>1</td>\n",
       "    </tr>\n",
       "    <tr>\n",
       "      <th>4</th>\n",
       "      <td>2013-12-25 03:45:04</td>\n",
       "      <td>2</td>\n",
       "      <td>1</td>\n",
       "    </tr>\n",
       "    <tr>\n",
       "      <th>...</th>\n",
       "      <td>...</td>\n",
       "      <td>...</td>\n",
       "      <td>...</td>\n",
       "    </tr>\n",
       "    <tr>\n",
       "      <th>207912</th>\n",
       "      <td>2013-09-06 06:14:15</td>\n",
       "      <td>11996</td>\n",
       "      <td>1</td>\n",
       "    </tr>\n",
       "    <tr>\n",
       "      <th>207913</th>\n",
       "      <td>2013-01-15 18:28:37</td>\n",
       "      <td>11997</td>\n",
       "      <td>1</td>\n",
       "    </tr>\n",
       "    <tr>\n",
       "      <th>207914</th>\n",
       "      <td>2014-04-27 12:45:16</td>\n",
       "      <td>11998</td>\n",
       "      <td>1</td>\n",
       "    </tr>\n",
       "    <tr>\n",
       "      <th>207915</th>\n",
       "      <td>2012-06-02 11:55:59</td>\n",
       "      <td>11999</td>\n",
       "      <td>1</td>\n",
       "    </tr>\n",
       "    <tr>\n",
       "      <th>207916</th>\n",
       "      <td>2014-01-26 08:57:12</td>\n",
       "      <td>12000</td>\n",
       "      <td>1</td>\n",
       "    </tr>\n",
       "  </tbody>\n",
       "</table>\n",
       "<p>207917 rows × 3 columns</p>\n",
       "</div>"
      ],
      "text/plain": [
       "                time_stamp  user_id  visited\n",
       "0      2014-04-22 03:53:30        1        1\n",
       "1      2013-11-15 03:45:04        2        1\n",
       "2      2013-11-29 03:45:04        2        1\n",
       "3      2013-12-09 03:45:04        2        1\n",
       "4      2013-12-25 03:45:04        2        1\n",
       "...                    ...      ...      ...\n",
       "207912 2013-09-06 06:14:15    11996        1\n",
       "207913 2013-01-15 18:28:37    11997        1\n",
       "207914 2014-04-27 12:45:16    11998        1\n",
       "207915 2012-06-02 11:55:59    11999        1\n",
       "207916 2014-01-26 08:57:12    12000        1\n",
       "\n",
       "[207917 rows x 3 columns]"
      ]
     },
     "execution_count": 20,
     "metadata": {},
     "output_type": "execute_result"
    }
   ],
   "source": [
    "eng_df"
   ]
  },
  {
   "cell_type": "code",
   "execution_count": 21,
   "id": "ae155872",
   "metadata": {},
   "outputs": [
    {
     "data": {
      "text/plain": [
       "1    207917\n",
       "Name: visited, dtype: int64"
      ]
     },
     "execution_count": 21,
     "metadata": {},
     "output_type": "execute_result"
    }
   ],
   "source": [
    "eng_df['visited'].value_counts()"
   ]
  },
  {
   "cell_type": "code",
   "execution_count": 22,
   "id": "71e66c6e",
   "metadata": {},
   "outputs": [
    {
     "data": {
      "text/plain": [
       "3623     606\n",
       "906      600\n",
       "1811     593\n",
       "7590     590\n",
       "8068     585\n",
       "        ... \n",
       "4699       1\n",
       "4698       1\n",
       "4697       1\n",
       "4696       1\n",
       "12000      1\n",
       "Name: user_id, Length: 8823, dtype: int64"
      ]
     },
     "execution_count": 22,
     "metadata": {},
     "output_type": "execute_result"
    }
   ],
   "source": [
    "eng_df['user_id'].value_counts()"
   ]
  },
  {
   "cell_type": "markdown",
   "id": "0fc2041c",
   "metadata": {},
   "source": [
    "Therefore, 8823 of 12000 users logged into the product in the given period"
   ]
  },
  {
   "cell_type": "markdown",
   "id": "bf548db4",
   "metadata": {},
   "source": [
    "# 2 Which factor predicts future user adoption"
   ]
  },
  {
   "cell_type": "markdown",
   "id": "8c1ba005",
   "metadata": {},
   "source": [
    "## 2.1 Defining the adopted user \n",
    "a user who has logged into the product on three separate days in at least one seven-day period"
   ]
  },
  {
   "cell_type": "code",
   "execution_count": 23,
   "id": "d631e2b9",
   "metadata": {},
   "outputs": [],
   "source": [
    "def whether_adopted_user(grouped):\n",
    "    days = grouped.diff(2).astype('timedelta64[D]')\n",
    "    return any(days >= 7)"
   ]
  },
  {
   "cell_type": "code",
   "execution_count": 24,
   "id": "e3feab1a",
   "metadata": {},
   "outputs": [
    {
     "data": {
      "text/plain": [
       "True"
      ]
     },
     "execution_count": 24,
     "metadata": {},
     "output_type": "execute_result"
    }
   ],
   "source": [
    "days = eng_df[eng_df['user_id'] == 2]['time_stamp'].diff(2).astype('timedelta64[D]')\n",
    "any(days >=7)"
   ]
  },
  {
   "cell_type": "code",
   "execution_count": 25,
   "id": "fd75a9e1",
   "metadata": {},
   "outputs": [
    {
     "data": {
      "text/html": [
       "<div>\n",
       "<style scoped>\n",
       "    .dataframe tbody tr th:only-of-type {\n",
       "        vertical-align: middle;\n",
       "    }\n",
       "\n",
       "    .dataframe tbody tr th {\n",
       "        vertical-align: top;\n",
       "    }\n",
       "\n",
       "    .dataframe thead th {\n",
       "        text-align: right;\n",
       "    }\n",
       "</style>\n",
       "<table border=\"1\" class=\"dataframe\">\n",
       "  <thead>\n",
       "    <tr style=\"text-align: right;\">\n",
       "      <th></th>\n",
       "      <th>adopted_user</th>\n",
       "    </tr>\n",
       "    <tr>\n",
       "      <th>user_id</th>\n",
       "      <th></th>\n",
       "    </tr>\n",
       "  </thead>\n",
       "  <tbody>\n",
       "    <tr>\n",
       "      <th>1</th>\n",
       "      <td>False</td>\n",
       "    </tr>\n",
       "    <tr>\n",
       "      <th>2</th>\n",
       "      <td>True</td>\n",
       "    </tr>\n",
       "    <tr>\n",
       "      <th>3</th>\n",
       "      <td>False</td>\n",
       "    </tr>\n",
       "    <tr>\n",
       "      <th>4</th>\n",
       "      <td>False</td>\n",
       "    </tr>\n",
       "    <tr>\n",
       "      <th>5</th>\n",
       "      <td>False</td>\n",
       "    </tr>\n",
       "  </tbody>\n",
       "</table>\n",
       "</div>"
      ],
      "text/plain": [
       "         adopted_user\n",
       "user_id              \n",
       "1               False\n",
       "2                True\n",
       "3               False\n",
       "4               False\n",
       "5               False"
      ]
     },
     "execution_count": 25,
     "metadata": {},
     "output_type": "execute_result"
    }
   ],
   "source": [
    "adopted_user_df = pd.DataFrame(eng_df.groupby('user_id')['time_stamp'].apply(whether_adopted_user))\n",
    "adopted_user_df.rename(columns = {'time_stamp':'adopted_user'}, inplace = True)\n",
    "adopted_user_df.head()"
   ]
  },
  {
   "cell_type": "code",
   "execution_count": 26,
   "id": "15231e52",
   "metadata": {},
   "outputs": [
    {
     "data": {
      "text/plain": [
       "adopted_user    2235\n",
       "dtype: int64"
      ]
     },
     "execution_count": 26,
     "metadata": {},
     "output_type": "execute_result"
    }
   ],
   "source": [
    "adopted_user_df.sum()"
   ]
  },
  {
   "cell_type": "markdown",
   "id": "788d9d05",
   "metadata": {},
   "source": [
    "Therefore, 2235 of 8823 users are \"adopted users\""
   ]
  },
  {
   "cell_type": "code",
   "execution_count": 27,
   "id": "21d950b4",
   "metadata": {},
   "outputs": [],
   "source": [
    "adopted_user_df.reset_index(inplace = True)\n",
    "adopted_user_df['user_id'] = adopted_user_df['user_id'].astype(str)"
   ]
  },
  {
   "cell_type": "code",
   "execution_count": 28,
   "id": "532e335c",
   "metadata": {},
   "outputs": [
    {
     "data": {
      "text/html": [
       "<div>\n",
       "<style scoped>\n",
       "    .dataframe tbody tr th:only-of-type {\n",
       "        vertical-align: middle;\n",
       "    }\n",
       "\n",
       "    .dataframe tbody tr th {\n",
       "        vertical-align: top;\n",
       "    }\n",
       "\n",
       "    .dataframe thead th {\n",
       "        text-align: right;\n",
       "    }\n",
       "</style>\n",
       "<table border=\"1\" class=\"dataframe\">\n",
       "  <thead>\n",
       "    <tr style=\"text-align: right;\">\n",
       "      <th></th>\n",
       "      <th>user_id</th>\n",
       "      <th>creation_time</th>\n",
       "      <th>name</th>\n",
       "      <th>email</th>\n",
       "      <th>creation_source</th>\n",
       "      <th>last_session_creation_time</th>\n",
       "      <th>opted_in_to_mailing_list</th>\n",
       "      <th>enabled_for_marketing_drip</th>\n",
       "      <th>org_id</th>\n",
       "      <th>invited_by_user_id</th>\n",
       "      <th>invited</th>\n",
       "      <th>active_duration</th>\n",
       "      <th>adopted_user</th>\n",
       "    </tr>\n",
       "  </thead>\n",
       "  <tbody>\n",
       "    <tr>\n",
       "      <th>0</th>\n",
       "      <td>1</td>\n",
       "      <td>2014-04-22 03:53:30</td>\n",
       "      <td>Clausen August</td>\n",
       "      <td>AugustCClausen@yahoo.com</td>\n",
       "      <td>GUEST_INVITE</td>\n",
       "      <td>2014-04-22 03:53:30</td>\n",
       "      <td>1</td>\n",
       "      <td>0</td>\n",
       "      <td>11</td>\n",
       "      <td>10803</td>\n",
       "      <td>1</td>\n",
       "      <td>0.0</td>\n",
       "      <td>0</td>\n",
       "    </tr>\n",
       "    <tr>\n",
       "      <th>1</th>\n",
       "      <td>2</td>\n",
       "      <td>2013-11-15 03:45:04</td>\n",
       "      <td>Poole Matthew</td>\n",
       "      <td>MatthewPoole@gustr.com</td>\n",
       "      <td>ORG_INVITE</td>\n",
       "      <td>2014-03-31 03:45:04</td>\n",
       "      <td>0</td>\n",
       "      <td>0</td>\n",
       "      <td>1</td>\n",
       "      <td>316</td>\n",
       "      <td>1</td>\n",
       "      <td>136.0</td>\n",
       "      <td>1</td>\n",
       "    </tr>\n",
       "    <tr>\n",
       "      <th>2</th>\n",
       "      <td>3</td>\n",
       "      <td>2013-03-19 23:14:52</td>\n",
       "      <td>Bottrill Mitchell</td>\n",
       "      <td>MitchellBottrill@gustr.com</td>\n",
       "      <td>ORG_INVITE</td>\n",
       "      <td>2013-03-19 23:14:52</td>\n",
       "      <td>0</td>\n",
       "      <td>0</td>\n",
       "      <td>94</td>\n",
       "      <td>1525</td>\n",
       "      <td>1</td>\n",
       "      <td>0.0</td>\n",
       "      <td>0</td>\n",
       "    </tr>\n",
       "    <tr>\n",
       "      <th>3</th>\n",
       "      <td>4</td>\n",
       "      <td>2013-05-21 08:09:28</td>\n",
       "      <td>Clausen Nicklas</td>\n",
       "      <td>NicklasSClausen@yahoo.com</td>\n",
       "      <td>GUEST_INVITE</td>\n",
       "      <td>2013-05-22 08:09:28</td>\n",
       "      <td>0</td>\n",
       "      <td>0</td>\n",
       "      <td>1</td>\n",
       "      <td>5151</td>\n",
       "      <td>1</td>\n",
       "      <td>1.0</td>\n",
       "      <td>0</td>\n",
       "    </tr>\n",
       "    <tr>\n",
       "      <th>4</th>\n",
       "      <td>5</td>\n",
       "      <td>2013-01-17 10:14:20</td>\n",
       "      <td>Raw Grace</td>\n",
       "      <td>GraceRaw@yahoo.com</td>\n",
       "      <td>GUEST_INVITE</td>\n",
       "      <td>2013-01-22 10:14:20</td>\n",
       "      <td>0</td>\n",
       "      <td>0</td>\n",
       "      <td>193</td>\n",
       "      <td>5240</td>\n",
       "      <td>1</td>\n",
       "      <td>5.0</td>\n",
       "      <td>0</td>\n",
       "    </tr>\n",
       "  </tbody>\n",
       "</table>\n",
       "</div>"
      ],
      "text/plain": [
       "  user_id       creation_time               name                       email  \\\n",
       "0       1 2014-04-22 03:53:30     Clausen August    AugustCClausen@yahoo.com   \n",
       "1       2 2013-11-15 03:45:04      Poole Matthew      MatthewPoole@gustr.com   \n",
       "2       3 2013-03-19 23:14:52  Bottrill Mitchell  MitchellBottrill@gustr.com   \n",
       "3       4 2013-05-21 08:09:28    Clausen Nicklas   NicklasSClausen@yahoo.com   \n",
       "4       5 2013-01-17 10:14:20          Raw Grace          GraceRaw@yahoo.com   \n",
       "\n",
       "  creation_source last_session_creation_time  opted_in_to_mailing_list  \\\n",
       "0    GUEST_INVITE        2014-04-22 03:53:30                         1   \n",
       "1      ORG_INVITE        2014-03-31 03:45:04                         0   \n",
       "2      ORG_INVITE        2013-03-19 23:14:52                         0   \n",
       "3    GUEST_INVITE        2013-05-22 08:09:28                         0   \n",
       "4    GUEST_INVITE        2013-01-22 10:14:20                         0   \n",
       "\n",
       "   enabled_for_marketing_drip org_id invited_by_user_id  invited  \\\n",
       "0                           0     11              10803        1   \n",
       "1                           0      1                316        1   \n",
       "2                           0     94               1525        1   \n",
       "3                           0      1               5151        1   \n",
       "4                           0    193               5240        1   \n",
       "\n",
       "   active_duration  adopted_user  \n",
       "0              0.0             0  \n",
       "1            136.0             1  \n",
       "2              0.0             0  \n",
       "3              1.0             0  \n",
       "4              5.0             0  "
      ]
     },
     "execution_count": 28,
     "metadata": {},
     "output_type": "execute_result"
    }
   ],
   "source": [
    "compiled_user_df = user_df.merge(adopted_user_df, how = 'left', on = 'user_id')\n",
    "compiled_user_df['adopted_user'] = compiled_user_df['adopted_user'].astype(float)\n",
    "compiled_user_df['adopted_user'] = compiled_user_df['adopted_user'].fillna(0)\n",
    "compiled_user_df['adopted_user'] = compiled_user_df['adopted_user'].astype(np.int64)\n",
    "compiled_user_df.head()"
   ]
  },
  {
   "cell_type": "code",
   "execution_count": 29,
   "id": "0f028687",
   "metadata": {
    "scrolled": true
   },
   "outputs": [
    {
     "data": {
      "text/plain": [
       "user_id                               object\n",
       "creation_time                 datetime64[ns]\n",
       "name                                  object\n",
       "email                                 object\n",
       "creation_source                       object\n",
       "last_session_creation_time    datetime64[ns]\n",
       "opted_in_to_mailing_list               int64\n",
       "enabled_for_marketing_drip             int64\n",
       "org_id                                object\n",
       "invited_by_user_id                    object\n",
       "invited                                int64\n",
       "active_duration                      float64\n",
       "adopted_user                           int64\n",
       "dtype: object"
      ]
     },
     "execution_count": 29,
     "metadata": {},
     "output_type": "execute_result"
    }
   ],
   "source": [
    "compiled_user_df.dtypes"
   ]
  },
  {
   "cell_type": "markdown",
   "id": "b953ec0b",
   "metadata": {},
   "source": [
    "## 2.2 Bivariable analysis &Draw some plots"
   ]
  },
  {
   "cell_type": "markdown",
   "id": "d178c895",
   "metadata": {},
   "source": [
    "`adopted_user` ratio among users:"
   ]
  },
  {
   "cell_type": "code",
   "execution_count": 30,
   "id": "e6bb7951",
   "metadata": {
    "scrolled": false
   },
   "outputs": [
    {
     "data": {
      "text/plain": [
       "0    0.81375\n",
       "1    0.18625\n",
       "Name: adopted_user, dtype: float64"
      ]
     },
     "execution_count": 30,
     "metadata": {},
     "output_type": "execute_result"
    }
   ],
   "source": [
    "compiled_user_df['adopted_user'].value_counts(normalize=True)"
   ]
  },
  {
   "cell_type": "markdown",
   "id": "7af8c0da",
   "metadata": {},
   "source": [
    "Check whether a categorical variable has a category with a higher `adopted_user` probability higher than 0.19"
   ]
  },
  {
   "cell_type": "code",
   "execution_count": 31,
   "id": "e3c45f40",
   "metadata": {},
   "outputs": [
    {
     "data": {
      "text/plain": [
       "opted_in_to_mailing_list  adopted_user\n",
       "0                         0               0.815678\n",
       "                          1               0.184322\n",
       "1                         0               0.807949\n",
       "                          1               0.192051\n",
       "Name: adopted_user, dtype: float64"
      ]
     },
     "execution_count": 31,
     "metadata": {},
     "output_type": "execute_result"
    }
   ],
   "source": [
    "compiled_user_df.groupby(\"opted_in_to_mailing_list\")[\"adopted_user\"].value_counts(normalize=True)"
   ]
  },
  {
   "cell_type": "code",
   "execution_count": 32,
   "id": "c08ab1db",
   "metadata": {},
   "outputs": [
    {
     "data": {
      "text/plain": [
       "enabled_for_marketing_drip  adopted_user\n",
       "0                           0               0.814949\n",
       "                            1               0.185051\n",
       "1                           0               0.806920\n",
       "                            1               0.193080\n",
       "Name: adopted_user, dtype: float64"
      ]
     },
     "execution_count": 32,
     "metadata": {},
     "output_type": "execute_result"
    }
   ],
   "source": [
    "compiled_user_df.groupby(\"enabled_for_marketing_drip\")[\"adopted_user\"].value_counts(normalize=True)"
   ]
  },
  {
   "cell_type": "code",
   "execution_count": 33,
   "id": "c1f90ccd",
   "metadata": {},
   "outputs": [
    {
     "data": {
      "text/plain": [
       "creation_source     adopted_user\n",
       "GUEST_INVITE        0               0.769302\n",
       "                    1               0.230698\n",
       "ORG_INVITE          0               0.817113\n",
       "                    1               0.182887\n",
       "PERSONAL_PROJECTS   0               0.891047\n",
       "                    1               0.108953\n",
       "SIGNUP              0               0.799713\n",
       "                    1               0.200287\n",
       "SIGNUP_GOOGLE_AUTH  0               0.776173\n",
       "                    1               0.223827\n",
       "Name: adopted_user, dtype: float64"
      ]
     },
     "execution_count": 33,
     "metadata": {},
     "output_type": "execute_result"
    }
   ],
   "source": [
    "compiled_user_df.groupby(\"creation_source\")[\"adopted_user\"].value_counts(normalize=True)"
   ]
  },
  {
   "cell_type": "code",
   "execution_count": 34,
   "id": "f0e82b20",
   "metadata": {},
   "outputs": [
    {
     "data": {
      "text/plain": [
       "PERSONAL_PROJECTS     2111\n",
       "SIGNUP                2087\n",
       "SIGNUP_GOOGLE_AUTH    1385\n",
       "Name: creation_source, dtype: int64"
      ]
     },
     "execution_count": 34,
     "metadata": {},
     "output_type": "execute_result"
    }
   ],
   "source": [
    "compiled_user_df.loc[compiled_user_df['invited'] ==0,'creation_source'].value_counts()"
   ]
  },
  {
   "cell_type": "code",
   "execution_count": 35,
   "id": "a4504ed6",
   "metadata": {},
   "outputs": [
    {
     "data": {
      "text/plain": [
       "invited  adopted_user\n",
       "0        0               0.828408\n",
       "         1               0.171592\n",
       "1        0               0.800997\n",
       "         1               0.199003\n",
       "Name: adopted_user, dtype: float64"
      ]
     },
     "execution_count": 35,
     "metadata": {},
     "output_type": "execute_result"
    }
   ],
   "source": [
    "compiled_user_df.groupby(\"invited\")[\"adopted_user\"].value_counts(normalize=True)"
   ]
  },
  {
   "cell_type": "code",
   "execution_count": 36,
   "id": "82e56e18",
   "metadata": {
    "scrolled": true
   },
   "outputs": [
    {
     "data": {
      "text/html": [
       "<div>\n",
       "<style scoped>\n",
       "    .dataframe tbody tr th:only-of-type {\n",
       "        vertical-align: middle;\n",
       "    }\n",
       "\n",
       "    .dataframe tbody tr th {\n",
       "        vertical-align: top;\n",
       "    }\n",
       "\n",
       "    .dataframe thead th {\n",
       "        text-align: right;\n",
       "    }\n",
       "</style>\n",
       "<table border=\"1\" class=\"dataframe\">\n",
       "  <thead>\n",
       "    <tr style=\"text-align: right;\">\n",
       "      <th></th>\n",
       "      <th>user_id</th>\n",
       "      <th>creation_time</th>\n",
       "      <th>name</th>\n",
       "      <th>email</th>\n",
       "      <th>creation_source</th>\n",
       "      <th>last_session_creation_time</th>\n",
       "      <th>opted_in_to_mailing_list</th>\n",
       "      <th>enabled_for_marketing_drip</th>\n",
       "      <th>org_id</th>\n",
       "      <th>invited_by_user_id</th>\n",
       "      <th>invited</th>\n",
       "      <th>active_duration</th>\n",
       "      <th>adopted_user</th>\n",
       "    </tr>\n",
       "  </thead>\n",
       "  <tbody>\n",
       "    <tr>\n",
       "      <th>0</th>\n",
       "      <td>1</td>\n",
       "      <td>2014-04-22 03:53:30</td>\n",
       "      <td>Clausen August</td>\n",
       "      <td>AugustCClausen@yahoo.com</td>\n",
       "      <td>GUEST_INVITE</td>\n",
       "      <td>2014-04-22 03:53:30</td>\n",
       "      <td>1</td>\n",
       "      <td>0</td>\n",
       "      <td>11</td>\n",
       "      <td>10803</td>\n",
       "      <td>1</td>\n",
       "      <td>0.0</td>\n",
       "      <td>0</td>\n",
       "    </tr>\n",
       "    <tr>\n",
       "      <th>1</th>\n",
       "      <td>2</td>\n",
       "      <td>2013-11-15 03:45:04</td>\n",
       "      <td>Poole Matthew</td>\n",
       "      <td>MatthewPoole@gustr.com</td>\n",
       "      <td>ORG_INVITE</td>\n",
       "      <td>2014-03-31 03:45:04</td>\n",
       "      <td>0</td>\n",
       "      <td>0</td>\n",
       "      <td>1</td>\n",
       "      <td>316</td>\n",
       "      <td>1</td>\n",
       "      <td>136.0</td>\n",
       "      <td>1</td>\n",
       "    </tr>\n",
       "    <tr>\n",
       "      <th>2</th>\n",
       "      <td>3</td>\n",
       "      <td>2013-03-19 23:14:52</td>\n",
       "      <td>Bottrill Mitchell</td>\n",
       "      <td>MitchellBottrill@gustr.com</td>\n",
       "      <td>ORG_INVITE</td>\n",
       "      <td>2013-03-19 23:14:52</td>\n",
       "      <td>0</td>\n",
       "      <td>0</td>\n",
       "      <td>94</td>\n",
       "      <td>1525</td>\n",
       "      <td>1</td>\n",
       "      <td>0.0</td>\n",
       "      <td>0</td>\n",
       "    </tr>\n",
       "    <tr>\n",
       "      <th>3</th>\n",
       "      <td>4</td>\n",
       "      <td>2013-05-21 08:09:28</td>\n",
       "      <td>Clausen Nicklas</td>\n",
       "      <td>NicklasSClausen@yahoo.com</td>\n",
       "      <td>GUEST_INVITE</td>\n",
       "      <td>2013-05-22 08:09:28</td>\n",
       "      <td>0</td>\n",
       "      <td>0</td>\n",
       "      <td>1</td>\n",
       "      <td>5151</td>\n",
       "      <td>1</td>\n",
       "      <td>1.0</td>\n",
       "      <td>0</td>\n",
       "    </tr>\n",
       "    <tr>\n",
       "      <th>4</th>\n",
       "      <td>5</td>\n",
       "      <td>2013-01-17 10:14:20</td>\n",
       "      <td>Raw Grace</td>\n",
       "      <td>GraceRaw@yahoo.com</td>\n",
       "      <td>GUEST_INVITE</td>\n",
       "      <td>2013-01-22 10:14:20</td>\n",
       "      <td>0</td>\n",
       "      <td>0</td>\n",
       "      <td>193</td>\n",
       "      <td>5240</td>\n",
       "      <td>1</td>\n",
       "      <td>5.0</td>\n",
       "      <td>0</td>\n",
       "    </tr>\n",
       "  </tbody>\n",
       "</table>\n",
       "</div>"
      ],
      "text/plain": [
       "  user_id       creation_time               name                       email  \\\n",
       "0       1 2014-04-22 03:53:30     Clausen August    AugustCClausen@yahoo.com   \n",
       "1       2 2013-11-15 03:45:04      Poole Matthew      MatthewPoole@gustr.com   \n",
       "2       3 2013-03-19 23:14:52  Bottrill Mitchell  MitchellBottrill@gustr.com   \n",
       "3       4 2013-05-21 08:09:28    Clausen Nicklas   NicklasSClausen@yahoo.com   \n",
       "4       5 2013-01-17 10:14:20          Raw Grace          GraceRaw@yahoo.com   \n",
       "\n",
       "  creation_source last_session_creation_time  opted_in_to_mailing_list  \\\n",
       "0    GUEST_INVITE        2014-04-22 03:53:30                         1   \n",
       "1      ORG_INVITE        2014-03-31 03:45:04                         0   \n",
       "2      ORG_INVITE        2013-03-19 23:14:52                         0   \n",
       "3    GUEST_INVITE        2013-05-22 08:09:28                         0   \n",
       "4    GUEST_INVITE        2013-01-22 10:14:20                         0   \n",
       "\n",
       "   enabled_for_marketing_drip org_id invited_by_user_id  invited  \\\n",
       "0                           0     11              10803        1   \n",
       "1                           0      1                316        1   \n",
       "2                           0     94               1525        1   \n",
       "3                           0      1               5151        1   \n",
       "4                           0    193               5240        1   \n",
       "\n",
       "   active_duration  adopted_user  \n",
       "0              0.0             0  \n",
       "1            136.0             1  \n",
       "2              0.0             0  \n",
       "3              1.0             0  \n",
       "4              5.0             0  "
      ]
     },
     "execution_count": 36,
     "metadata": {},
     "output_type": "execute_result"
    }
   ],
   "source": [
    "compiled_user_df.head()"
   ]
  },
  {
   "cell_type": "code",
   "execution_count": 37,
   "id": "20eb79ac",
   "metadata": {
    "scrolled": false
   },
   "outputs": [
    {
     "data": {
      "image/png": "[encoded data removed]",
      "text/plain": [
       "<Figure size 500x500 with 1 Axes>"
      ]
     },
     "metadata": {},
     "output_type": "display_data"
    }
   ],
   "source": [
    "sns.relplot(data = compiled_user_df, x = 'active_duration', y = 'adopted_user',kind = 'scatter');"
   ]
  },
  {
   "cell_type": "markdown",
   "id": "1f2adeaf",
   "metadata": {},
   "source": [
    "# 3 Classification"
   ]
  },
  {
   "cell_type": "code",
   "execution_count": 38,
   "id": "42d6dd46",
   "metadata": {},
   "outputs": [],
   "source": [
    "edit_df = compiled_user_df.drop(columns = ['user_id','creation_time','name','email','last_session_creation_time','org_id','invited_by_user_id'])"
   ]
  },
  {
   "cell_type": "code",
   "execution_count": 39,
   "id": "2ef8d01e",
   "metadata": {
    "scrolled": true
   },
   "outputs": [
    {
     "data": {
      "text/html": [
       "<div>\n",
       "<style scoped>\n",
       "    .dataframe tbody tr th:only-of-type {\n",
       "        vertical-align: middle;\n",
       "    }\n",
       "\n",
       "    .dataframe tbody tr th {\n",
       "        vertical-align: top;\n",
       "    }\n",
       "\n",
       "    .dataframe thead th {\n",
       "        text-align: right;\n",
       "    }\n",
       "</style>\n",
       "<table border=\"1\" class=\"dataframe\">\n",
       "  <thead>\n",
       "    <tr style=\"text-align: right;\">\n",
       "      <th></th>\n",
       "      <th>creation_source</th>\n",
       "      <th>opted_in_to_mailing_list</th>\n",
       "      <th>enabled_for_marketing_drip</th>\n",
       "      <th>invited</th>\n",
       "      <th>active_duration</th>\n",
       "      <th>adopted_user</th>\n",
       "    </tr>\n",
       "  </thead>\n",
       "  <tbody>\n",
       "    <tr>\n",
       "      <th>0</th>\n",
       "      <td>GUEST_INVITE</td>\n",
       "      <td>1</td>\n",
       "      <td>0</td>\n",
       "      <td>1</td>\n",
       "      <td>0.0</td>\n",
       "      <td>0</td>\n",
       "    </tr>\n",
       "    <tr>\n",
       "      <th>1</th>\n",
       "      <td>ORG_INVITE</td>\n",
       "      <td>0</td>\n",
       "      <td>0</td>\n",
       "      <td>1</td>\n",
       "      <td>136.0</td>\n",
       "      <td>1</td>\n",
       "    </tr>\n",
       "    <tr>\n",
       "      <th>2</th>\n",
       "      <td>ORG_INVITE</td>\n",
       "      <td>0</td>\n",
       "      <td>0</td>\n",
       "      <td>1</td>\n",
       "      <td>0.0</td>\n",
       "      <td>0</td>\n",
       "    </tr>\n",
       "    <tr>\n",
       "      <th>3</th>\n",
       "      <td>GUEST_INVITE</td>\n",
       "      <td>0</td>\n",
       "      <td>0</td>\n",
       "      <td>1</td>\n",
       "      <td>1.0</td>\n",
       "      <td>0</td>\n",
       "    </tr>\n",
       "    <tr>\n",
       "      <th>4</th>\n",
       "      <td>GUEST_INVITE</td>\n",
       "      <td>0</td>\n",
       "      <td>0</td>\n",
       "      <td>1</td>\n",
       "      <td>5.0</td>\n",
       "      <td>0</td>\n",
       "    </tr>\n",
       "  </tbody>\n",
       "</table>\n",
       "</div>"
      ],
      "text/plain": [
       "  creation_source  opted_in_to_mailing_list  enabled_for_marketing_drip  \\\n",
       "0    GUEST_INVITE                         1                           0   \n",
       "1      ORG_INVITE                         0                           0   \n",
       "2      ORG_INVITE                         0                           0   \n",
       "3    GUEST_INVITE                         0                           0   \n",
       "4    GUEST_INVITE                         0                           0   \n",
       "\n",
       "   invited  active_duration  adopted_user  \n",
       "0        1              0.0             0  \n",
       "1        1            136.0             1  \n",
       "2        1              0.0             0  \n",
       "3        1              1.0             0  \n",
       "4        1              5.0             0  "
      ]
     },
     "execution_count": 39,
     "metadata": {},
     "output_type": "execute_result"
    }
   ],
   "source": [
    "edit_df.head()"
   ]
  },
  {
   "cell_type": "code",
   "execution_count": 40,
   "id": "a2bda08c",
   "metadata": {},
   "outputs": [],
   "source": [
    "from pycaret.classification import *"
   ]
  },
  {
   "cell_type": "code",
   "execution_count": 41,
   "id": "29c3260a",
   "metadata": {},
   "outputs": [
    {
     "data": {
      "text/html": [
       "<style type=\"text/css\">\n",
       "#T_734b4_row10_col1 {\n",
       "  background-color: lightgreen;\n",
       "}\n",
       "</style>\n",
       "<table id=\"T_734b4\">\n",
       "  <thead>\n",
       "    <tr>\n",
       "      <th class=\"blank level0\" >&nbsp;</th>\n",
       "      <th id=\"T_734b4_level0_col0\" class=\"col_heading level0 col0\" >Description</th>\n",
       "      <th id=\"T_734b4_level0_col1\" class=\"col_heading level0 col1\" >Value</th>\n",
       "    </tr>\n",
       "  </thead>\n",
       "  <tbody>\n",
       "    <tr>\n",
       "      <th id=\"T_734b4_level0_row0\" class=\"row_heading level0 row0\" >0</th>\n",
       "      <td id=\"T_734b4_row0_col0\" class=\"data row0 col0\" >Session id</td>\n",
       "      <td id=\"T_734b4_row0_col1\" class=\"data row0 col1\" >22</td>\n",
       "    </tr>\n",
       "    <tr>\n",
       "      <th id=\"T_734b4_level0_row1\" class=\"row_heading level0 row1\" >1</th>\n",
       "      <td id=\"T_734b4_row1_col0\" class=\"data row1 col0\" >Target</td>\n",
       "      <td id=\"T_734b4_row1_col1\" class=\"data row1 col1\" >adopted_user</td>\n",
       "    </tr>\n",
       "    <tr>\n",
       "      <th id=\"T_734b4_level0_row2\" class=\"row_heading level0 row2\" >2</th>\n",
       "      <td id=\"T_734b4_row2_col0\" class=\"data row2 col0\" >Target type</td>\n",
       "      <td id=\"T_734b4_row2_col1\" class=\"data row2 col1\" >Binary</td>\n",
       "    </tr>\n",
       "    <tr>\n",
       "      <th id=\"T_734b4_level0_row3\" class=\"row_heading level0 row3\" >3</th>\n",
       "      <td id=\"T_734b4_row3_col0\" class=\"data row3 col0\" >Original data shape</td>\n",
       "      <td id=\"T_734b4_row3_col1\" class=\"data row3 col1\" >(12000, 6)</td>\n",
       "    </tr>\n",
       "    <tr>\n",
       "      <th id=\"T_734b4_level0_row4\" class=\"row_heading level0 row4\" >4</th>\n",
       "      <td id=\"T_734b4_row4_col0\" class=\"data row4 col0\" >Transformed data shape</td>\n",
       "      <td id=\"T_734b4_row4_col1\" class=\"data row4 col1\" >(12000, 10)</td>\n",
       "    </tr>\n",
       "    <tr>\n",
       "      <th id=\"T_734b4_level0_row5\" class=\"row_heading level0 row5\" >5</th>\n",
       "      <td id=\"T_734b4_row5_col0\" class=\"data row5 col0\" >Transformed train set shape</td>\n",
       "      <td id=\"T_734b4_row5_col1\" class=\"data row5 col1\" >(8399, 10)</td>\n",
       "    </tr>\n",
       "    <tr>\n",
       "      <th id=\"T_734b4_level0_row6\" class=\"row_heading level0 row6\" >6</th>\n",
       "      <td id=\"T_734b4_row6_col0\" class=\"data row6 col0\" >Transformed test set shape</td>\n",
       "      <td id=\"T_734b4_row6_col1\" class=\"data row6 col1\" >(3601, 10)</td>\n",
       "    </tr>\n",
       "    <tr>\n",
       "      <th id=\"T_734b4_level0_row7\" class=\"row_heading level0 row7\" >7</th>\n",
       "      <td id=\"T_734b4_row7_col0\" class=\"data row7 col0\" >Ordinal features</td>\n",
       "      <td id=\"T_734b4_row7_col1\" class=\"data row7 col1\" >3</td>\n",
       "    </tr>\n",
       "    <tr>\n",
       "      <th id=\"T_734b4_level0_row8\" class=\"row_heading level0 row8\" >8</th>\n",
       "      <td id=\"T_734b4_row8_col0\" class=\"data row8 col0\" >Numeric features</td>\n",
       "      <td id=\"T_734b4_row8_col1\" class=\"data row8 col1\" >4</td>\n",
       "    </tr>\n",
       "    <tr>\n",
       "      <th id=\"T_734b4_level0_row9\" class=\"row_heading level0 row9\" >9</th>\n",
       "      <td id=\"T_734b4_row9_col0\" class=\"data row9 col0\" >Categorical features</td>\n",
       "      <td id=\"T_734b4_row9_col1\" class=\"data row9 col1\" >4</td>\n",
       "    </tr>\n",
       "    <tr>\n",
       "      <th id=\"T_734b4_level0_row10\" class=\"row_heading level0 row10\" >10</th>\n",
       "      <td id=\"T_734b4_row10_col0\" class=\"data row10 col0\" >Preprocess</td>\n",
       "      <td id=\"T_734b4_row10_col1\" class=\"data row10 col1\" >True</td>\n",
       "    </tr>\n",
       "    <tr>\n",
       "      <th id=\"T_734b4_level0_row11\" class=\"row_heading level0 row11\" >11</th>\n",
       "      <td id=\"T_734b4_row11_col0\" class=\"data row11 col0\" >Imputation type</td>\n",
       "      <td id=\"T_734b4_row11_col1\" class=\"data row11 col1\" >simple</td>\n",
       "    </tr>\n",
       "    <tr>\n",
       "      <th id=\"T_734b4_level0_row12\" class=\"row_heading level0 row12\" >12</th>\n",
       "      <td id=\"T_734b4_row12_col0\" class=\"data row12 col0\" >Numeric imputation</td>\n",
       "      <td id=\"T_734b4_row12_col1\" class=\"data row12 col1\" >mean</td>\n",
       "    </tr>\n",
       "    <tr>\n",
       "      <th id=\"T_734b4_level0_row13\" class=\"row_heading level0 row13\" >13</th>\n",
       "      <td id=\"T_734b4_row13_col0\" class=\"data row13 col0\" >Categorical imputation</td>\n",
       "      <td id=\"T_734b4_row13_col1\" class=\"data row13 col1\" >constant</td>\n",
       "    </tr>\n",
       "    <tr>\n",
       "      <th id=\"T_734b4_level0_row14\" class=\"row_heading level0 row14\" >14</th>\n",
       "      <td id=\"T_734b4_row14_col0\" class=\"data row14 col0\" >Maximum one-hot encoding</td>\n",
       "      <td id=\"T_734b4_row14_col1\" class=\"data row14 col1\" >5</td>\n",
       "    </tr>\n",
       "    <tr>\n",
       "      <th id=\"T_734b4_level0_row15\" class=\"row_heading level0 row15\" >15</th>\n",
       "      <td id=\"T_734b4_row15_col0\" class=\"data row15 col0\" >Encoding method</td>\n",
       "      <td id=\"T_734b4_row15_col1\" class=\"data row15 col1\" >None</td>\n",
       "    </tr>\n",
       "    <tr>\n",
       "      <th id=\"T_734b4_level0_row16\" class=\"row_heading level0 row16\" >16</th>\n",
       "      <td id=\"T_734b4_row16_col0\" class=\"data row16 col0\" >Low variance threshold</td>\n",
       "      <td id=\"T_734b4_row16_col1\" class=\"data row16 col1\" >0</td>\n",
       "    </tr>\n",
       "    <tr>\n",
       "      <th id=\"T_734b4_level0_row17\" class=\"row_heading level0 row17\" >17</th>\n",
       "      <td id=\"T_734b4_row17_col0\" class=\"data row17 col0\" >Fold Generator</td>\n",
       "      <td id=\"T_734b4_row17_col1\" class=\"data row17 col1\" >StratifiedKFold</td>\n",
       "    </tr>\n",
       "    <tr>\n",
       "      <th id=\"T_734b4_level0_row18\" class=\"row_heading level0 row18\" >18</th>\n",
       "      <td id=\"T_734b4_row18_col0\" class=\"data row18 col0\" >Fold Number</td>\n",
       "      <td id=\"T_734b4_row18_col1\" class=\"data row18 col1\" >10</td>\n",
       "    </tr>\n",
       "    <tr>\n",
       "      <th id=\"T_734b4_level0_row19\" class=\"row_heading level0 row19\" >19</th>\n",
       "      <td id=\"T_734b4_row19_col0\" class=\"data row19 col0\" >CPU Jobs</td>\n",
       "      <td id=\"T_734b4_row19_col1\" class=\"data row19 col1\" >-1</td>\n",
       "    </tr>\n",
       "    <tr>\n",
       "      <th id=\"T_734b4_level0_row20\" class=\"row_heading level0 row20\" >20</th>\n",
       "      <td id=\"T_734b4_row20_col0\" class=\"data row20 col0\" >Use GPU</td>\n",
       "      <td id=\"T_734b4_row20_col1\" class=\"data row20 col1\" >False</td>\n",
       "    </tr>\n",
       "    <tr>\n",
       "      <th id=\"T_734b4_level0_row21\" class=\"row_heading level0 row21\" >21</th>\n",
       "      <td id=\"T_734b4_row21_col0\" class=\"data row21 col0\" >Log Experiment</td>\n",
       "      <td id=\"T_734b4_row21_col1\" class=\"data row21 col1\" >False</td>\n",
       "    </tr>\n",
       "    <tr>\n",
       "      <th id=\"T_734b4_level0_row22\" class=\"row_heading level0 row22\" >22</th>\n",
       "      <td id=\"T_734b4_row22_col0\" class=\"data row22 col0\" >Experiment Name</td>\n",
       "      <td id=\"T_734b4_row22_col1\" class=\"data row22 col1\" >clf-default-name</td>\n",
       "    </tr>\n",
       "    <tr>\n",
       "      <th id=\"T_734b4_level0_row23\" class=\"row_heading level0 row23\" >23</th>\n",
       "      <td id=\"T_734b4_row23_col0\" class=\"data row23 col0\" >USI</td>\n",
       "      <td id=\"T_734b4_row23_col1\" class=\"data row23 col1\" >c965</td>\n",
       "    </tr>\n",
       "  </tbody>\n",
       "</table>\n"
      ],
      "text/plain": [
       "<pandas.io.formats.style.Styler at 0x2ccab4c8a30>"
      ]
     },
     "metadata": {},
     "output_type": "display_data"
    }
   ],
   "source": [
    "exp_name = setup(data = edit_df,  \n",
    "                 target = 'adopted_user',\n",
    "                 session_id = 22,\n",
    "                 data_split_stratify = True,\n",
    "                 categorical_features=['creation_source','opted_in_to_mailing_list','enabled_for_marketing_drip','invited'],\n",
    "                ordinal_features = None)"
   ]
  },
  {
   "cell_type": "markdown",
   "id": "aef6ab87",
   "metadata": {},
   "source": [
    "To build a model that predicts `adopted_user`, Recall (how many relevant items are retrieved) is used to rank model"
   ]
  },
  {
   "cell_type": "code",
   "execution_count": 42,
   "id": "5bce153d",
   "metadata": {
    "scrolled": false
   },
   "outputs": [
    {
     "data": {
      "text/html": [],
      "text/plain": [
       "<IPython.core.display.HTML object>"
      ]
     },
     "metadata": {},
     "output_type": "display_data"
    },
    {
     "data": {
      "text/html": [
       "<style type=\"text/css\">\n",
       "#T_6ec13 th {\n",
       "  text-align: left;\n",
       "}\n",
       "#T_6ec13_row0_col0, #T_6ec13_row0_col2, #T_6ec13_row0_col4, #T_6ec13_row1_col0, #T_6ec13_row1_col1, #T_6ec13_row1_col3, #T_6ec13_row1_col4, #T_6ec13_row1_col5, #T_6ec13_row1_col6, #T_6ec13_row1_col7, #T_6ec13_row2_col0, #T_6ec13_row2_col1, #T_6ec13_row2_col2, #T_6ec13_row2_col3, #T_6ec13_row2_col4, #T_6ec13_row2_col5, #T_6ec13_row2_col6, #T_6ec13_row2_col7, #T_6ec13_row3_col0, #T_6ec13_row3_col1, #T_6ec13_row3_col2, #T_6ec13_row3_col3, #T_6ec13_row3_col4, #T_6ec13_row3_col5, #T_6ec13_row3_col6, #T_6ec13_row3_col7, #T_6ec13_row4_col0, #T_6ec13_row4_col1, #T_6ec13_row4_col2, #T_6ec13_row4_col3, #T_6ec13_row4_col4, #T_6ec13_row4_col5, #T_6ec13_row4_col6, #T_6ec13_row4_col7, #T_6ec13_row5_col0, #T_6ec13_row5_col1, #T_6ec13_row5_col2, #T_6ec13_row5_col3, #T_6ec13_row5_col4, #T_6ec13_row5_col5, #T_6ec13_row5_col6, #T_6ec13_row5_col7, #T_6ec13_row6_col0, #T_6ec13_row6_col1, #T_6ec13_row6_col2, #T_6ec13_row6_col3, #T_6ec13_row6_col4, #T_6ec13_row6_col5, #T_6ec13_row6_col6, #T_6ec13_row6_col7, #T_6ec13_row7_col0, #T_6ec13_row7_col1, #T_6ec13_row7_col3, #T_6ec13_row7_col4, #T_6ec13_row7_col5, #T_6ec13_row7_col6, #T_6ec13_row7_col7, #T_6ec13_row8_col0, #T_6ec13_row8_col1, #T_6ec13_row8_col2, #T_6ec13_row8_col3, #T_6ec13_row8_col4, #T_6ec13_row8_col5, #T_6ec13_row8_col6, #T_6ec13_row8_col7, #T_6ec13_row9_col0, #T_6ec13_row9_col1, #T_6ec13_row9_col2, #T_6ec13_row9_col3, #T_6ec13_row9_col4, #T_6ec13_row9_col5, #T_6ec13_row9_col6, #T_6ec13_row9_col7, #T_6ec13_row10_col0, #T_6ec13_row10_col1, #T_6ec13_row10_col2, #T_6ec13_row10_col3, #T_6ec13_row10_col4, #T_6ec13_row10_col5, #T_6ec13_row10_col6, #T_6ec13_row10_col7, #T_6ec13_row11_col0, #T_6ec13_row11_col1, #T_6ec13_row11_col2, #T_6ec13_row11_col3, #T_6ec13_row11_col5, #T_6ec13_row11_col6, #T_6ec13_row11_col7, #T_6ec13_row12_col0, #T_6ec13_row12_col1, #T_6ec13_row12_col2, #T_6ec13_row12_col3, #T_6ec13_row12_col5, #T_6ec13_row12_col6, #T_6ec13_row12_col7, #T_6ec13_row13_col0, #T_6ec13_row13_col1, #T_6ec13_row13_col2, #T_6ec13_row13_col3, #T_6ec13_row13_col4, #T_6ec13_row13_col5, #T_6ec13_row13_col6, #T_6ec13_row13_col7 {\n",
       "  text-align: left;\n",
       "}\n",
       "#T_6ec13_row0_col1, #T_6ec13_row0_col3, #T_6ec13_row0_col5, #T_6ec13_row0_col6, #T_6ec13_row0_col7, #T_6ec13_row1_col2, #T_6ec13_row7_col2, #T_6ec13_row11_col4, #T_6ec13_row12_col4 {\n",
       "  text-align: left;\n",
       "  background-color: yellow;\n",
       "}\n",
       "#T_6ec13_row0_col8, #T_6ec13_row1_col8, #T_6ec13_row2_col8, #T_6ec13_row3_col8, #T_6ec13_row4_col8, #T_6ec13_row5_col8, #T_6ec13_row6_col8, #T_6ec13_row7_col8, #T_6ec13_row8_col8, #T_6ec13_row9_col8, #T_6ec13_row10_col8, #T_6ec13_row11_col8, #T_6ec13_row13_col8 {\n",
       "  text-align: left;\n",
       "  background-color: lightgrey;\n",
       "}\n",
       "#T_6ec13_row12_col8 {\n",
       "  text-align: left;\n",
       "  background-color: yellow;\n",
       "  background-color: lightgrey;\n",
       "}\n",
       "</style>\n",
       "<table id=\"T_6ec13\">\n",
       "  <thead>\n",
       "    <tr>\n",
       "      <th class=\"blank level0\" >&nbsp;</th>\n",
       "      <th id=\"T_6ec13_level0_col0\" class=\"col_heading level0 col0\" >Model</th>\n",
       "      <th id=\"T_6ec13_level0_col1\" class=\"col_heading level0 col1\" >Accuracy</th>\n",
       "      <th id=\"T_6ec13_level0_col2\" class=\"col_heading level0 col2\" >AUC</th>\n",
       "      <th id=\"T_6ec13_level0_col3\" class=\"col_heading level0 col3\" >Recall</th>\n",
       "      <th id=\"T_6ec13_level0_col4\" class=\"col_heading level0 col4\" >Prec.</th>\n",
       "      <th id=\"T_6ec13_level0_col5\" class=\"col_heading level0 col5\" >F1</th>\n",
       "      <th id=\"T_6ec13_level0_col6\" class=\"col_heading level0 col6\" >Kappa</th>\n",
       "      <th id=\"T_6ec13_level0_col7\" class=\"col_heading level0 col7\" >MCC</th>\n",
       "      <th id=\"T_6ec13_level0_col8\" class=\"col_heading level0 col8\" >TT (Sec)</th>\n",
       "    </tr>\n",
       "  </thead>\n",
       "  <tbody>\n",
       "    <tr>\n",
       "      <th id=\"T_6ec13_level0_row0\" class=\"row_heading level0 row0\" >nb</th>\n",
       "      <td id=\"T_6ec13_row0_col0\" class=\"data row0 col0\" >Naive Bayes</td>\n",
       "      <td id=\"T_6ec13_row0_col1\" class=\"data row0 col1\" >0.9805</td>\n",
       "      <td id=\"T_6ec13_row0_col2\" class=\"data row0 col2\" >0.9965</td>\n",
       "      <td id=\"T_6ec13_row0_col3\" class=\"data row0 col3\" >0.9763</td>\n",
       "      <td id=\"T_6ec13_row0_col4\" class=\"data row0 col4\" >0.9238</td>\n",
       "      <td id=\"T_6ec13_row0_col5\" class=\"data row0 col5\" >0.9491</td>\n",
       "      <td id=\"T_6ec13_row0_col6\" class=\"data row0 col6\" >0.9370</td>\n",
       "      <td id=\"T_6ec13_row0_col7\" class=\"data row0 col7\" >0.9378</td>\n",
       "      <td id=\"T_6ec13_row0_col8\" class=\"data row0 col8\" >0.2170</td>\n",
       "    </tr>\n",
       "    <tr>\n",
       "      <th id=\"T_6ec13_level0_row1\" class=\"row_heading level0 row1\" >ada</th>\n",
       "      <td id=\"T_6ec13_row1_col0\" class=\"data row1 col0\" >Ada Boost Classifier</td>\n",
       "      <td id=\"T_6ec13_row1_col1\" class=\"data row1 col1\" >0.9802</td>\n",
       "      <td id=\"T_6ec13_row1_col2\" class=\"data row1 col2\" >0.9981</td>\n",
       "      <td id=\"T_6ec13_row1_col3\" class=\"data row1 col3\" >0.9706</td>\n",
       "      <td id=\"T_6ec13_row1_col4\" class=\"data row1 col4\" >0.9272</td>\n",
       "      <td id=\"T_6ec13_row1_col5\" class=\"data row1 col5\" >0.9482</td>\n",
       "      <td id=\"T_6ec13_row1_col6\" class=\"data row1 col6\" >0.9360</td>\n",
       "      <td id=\"T_6ec13_row1_col7\" class=\"data row1 col7\" >0.9365</td>\n",
       "      <td id=\"T_6ec13_row1_col8\" class=\"data row1 col8\" >0.4740</td>\n",
       "    </tr>\n",
       "    <tr>\n",
       "      <th id=\"T_6ec13_level0_row2\" class=\"row_heading level0 row2\" >gbc</th>\n",
       "      <td id=\"T_6ec13_row2_col0\" class=\"data row2 col0\" >Gradient Boosting Classifier</td>\n",
       "      <td id=\"T_6ec13_row2_col1\" class=\"data row2 col1\" >0.9792</td>\n",
       "      <td id=\"T_6ec13_row2_col2\" class=\"data row2 col2\" >0.9979</td>\n",
       "      <td id=\"T_6ec13_row2_col3\" class=\"data row2 col3\" >0.9693</td>\n",
       "      <td id=\"T_6ec13_row2_col4\" class=\"data row2 col4\" >0.9235</td>\n",
       "      <td id=\"T_6ec13_row2_col5\" class=\"data row2 col5\" >0.9455</td>\n",
       "      <td id=\"T_6ec13_row2_col6\" class=\"data row2 col6\" >0.9326</td>\n",
       "      <td id=\"T_6ec13_row2_col7\" class=\"data row2 col7\" >0.9333</td>\n",
       "      <td id=\"T_6ec13_row2_col8\" class=\"data row2 col8\" >0.6850</td>\n",
       "    </tr>\n",
       "    <tr>\n",
       "      <th id=\"T_6ec13_level0_row3\" class=\"row_heading level0 row3\" >lightgbm</th>\n",
       "      <td id=\"T_6ec13_row3_col0\" class=\"data row3 col0\" >Light Gradient Boosting Machine</td>\n",
       "      <td id=\"T_6ec13_row3_col1\" class=\"data row3 col1\" >0.9770</td>\n",
       "      <td id=\"T_6ec13_row3_col2\" class=\"data row3 col2\" >0.9975</td>\n",
       "      <td id=\"T_6ec13_row3_col3\" class=\"data row3 col3\" >0.9552</td>\n",
       "      <td id=\"T_6ec13_row3_col4\" class=\"data row3 col4\" >0.9245</td>\n",
       "      <td id=\"T_6ec13_row3_col5\" class=\"data row3 col5\" >0.9393</td>\n",
       "      <td id=\"T_6ec13_row3_col6\" class=\"data row3 col6\" >0.9251</td>\n",
       "      <td id=\"T_6ec13_row3_col7\" class=\"data row3 col7\" >0.9255</td>\n",
       "      <td id=\"T_6ec13_row3_col8\" class=\"data row3 col8\" >0.3440</td>\n",
       "    </tr>\n",
       "    <tr>\n",
       "      <th id=\"T_6ec13_level0_row4\" class=\"row_heading level0 row4\" >knn</th>\n",
       "      <td id=\"T_6ec13_row4_col0\" class=\"data row4 col0\" >K Neighbors Classifier</td>\n",
       "      <td id=\"T_6ec13_row4_col1\" class=\"data row4 col1\" >0.9773</td>\n",
       "      <td id=\"T_6ec13_row4_col2\" class=\"data row4 col2\" >0.9934</td>\n",
       "      <td id=\"T_6ec13_row4_col3\" class=\"data row4 col3\" >0.9488</td>\n",
       "      <td id=\"T_6ec13_row4_col4\" class=\"data row4 col4\" >0.9310</td>\n",
       "      <td id=\"T_6ec13_row4_col5\" class=\"data row4 col5\" >0.9395</td>\n",
       "      <td id=\"T_6ec13_row4_col6\" class=\"data row4 col6\" >0.9255</td>\n",
       "      <td id=\"T_6ec13_row4_col7\" class=\"data row4 col7\" >0.9258</td>\n",
       "      <td id=\"T_6ec13_row4_col8\" class=\"data row4 col8\" >0.2780</td>\n",
       "    </tr>\n",
       "    <tr>\n",
       "      <th id=\"T_6ec13_level0_row5\" class=\"row_heading level0 row5\" >rf</th>\n",
       "      <td id=\"T_6ec13_row5_col0\" class=\"data row5 col0\" >Random Forest Classifier</td>\n",
       "      <td id=\"T_6ec13_row5_col1\" class=\"data row5 col1\" >0.9751</td>\n",
       "      <td id=\"T_6ec13_row5_col2\" class=\"data row5 col2\" >0.9958</td>\n",
       "      <td id=\"T_6ec13_row5_col3\" class=\"data row5 col3\" >0.9437</td>\n",
       "      <td id=\"T_6ec13_row5_col4\" class=\"data row5 col4\" >0.9246</td>\n",
       "      <td id=\"T_6ec13_row5_col5\" class=\"data row5 col5\" >0.9338</td>\n",
       "      <td id=\"T_6ec13_row5_col6\" class=\"data row5 col6\" >0.9185</td>\n",
       "      <td id=\"T_6ec13_row5_col7\" class=\"data row5 col7\" >0.9188</td>\n",
       "      <td id=\"T_6ec13_row5_col8\" class=\"data row5 col8\" >0.5030</td>\n",
       "    </tr>\n",
       "    <tr>\n",
       "      <th id=\"T_6ec13_level0_row6\" class=\"row_heading level0 row6\" >et</th>\n",
       "      <td id=\"T_6ec13_row6_col0\" class=\"data row6 col0\" >Extra Trees Classifier</td>\n",
       "      <td id=\"T_6ec13_row6_col1\" class=\"data row6 col1\" >0.9743</td>\n",
       "      <td id=\"T_6ec13_row6_col2\" class=\"data row6 col2\" >0.9824</td>\n",
       "      <td id=\"T_6ec13_row6_col3\" class=\"data row6 col3\" >0.9309</td>\n",
       "      <td id=\"T_6ec13_row6_col4\" class=\"data row6 col4\" >0.9313</td>\n",
       "      <td id=\"T_6ec13_row6_col5\" class=\"data row6 col5\" >0.9309</td>\n",
       "      <td id=\"T_6ec13_row6_col6\" class=\"data row6 col6\" >0.9151</td>\n",
       "      <td id=\"T_6ec13_row6_col7\" class=\"data row6 col7\" >0.9153</td>\n",
       "      <td id=\"T_6ec13_row6_col8\" class=\"data row6 col8\" >1.0970</td>\n",
       "    </tr>\n",
       "    <tr>\n",
       "      <th id=\"T_6ec13_level0_row7\" class=\"row_heading level0 row7\" >lr</th>\n",
       "      <td id=\"T_6ec13_row7_col0\" class=\"data row7 col0\" >Logistic Regression</td>\n",
       "      <td id=\"T_6ec13_row7_col1\" class=\"data row7 col1\" >0.9775</td>\n",
       "      <td id=\"T_6ec13_row7_col2\" class=\"data row7 col2\" >0.9981</td>\n",
       "      <td id=\"T_6ec13_row7_col3\" class=\"data row7 col3\" >0.9277</td>\n",
       "      <td id=\"T_6ec13_row7_col4\" class=\"data row7 col4\" >0.9507</td>\n",
       "      <td id=\"T_6ec13_row7_col5\" class=\"data row7 col5\" >0.9387</td>\n",
       "      <td id=\"T_6ec13_row7_col6\" class=\"data row7 col6\" >0.9249</td>\n",
       "      <td id=\"T_6ec13_row7_col7\" class=\"data row7 col7\" >0.9253</td>\n",
       "      <td id=\"T_6ec13_row7_col8\" class=\"data row7 col8\" >1.1390</td>\n",
       "    </tr>\n",
       "    <tr>\n",
       "      <th id=\"T_6ec13_level0_row8\" class=\"row_heading level0 row8\" >dt</th>\n",
       "      <td id=\"T_6ec13_row8_col0\" class=\"data row8 col0\" >Decision Tree Classifier</td>\n",
       "      <td id=\"T_6ec13_row8_col1\" class=\"data row8 col1\" >0.9737</td>\n",
       "      <td id=\"T_6ec13_row8_col2\" class=\"data row8 col2\" >0.9724</td>\n",
       "      <td id=\"T_6ec13_row8_col3\" class=\"data row8 col3\" >0.9252</td>\n",
       "      <td id=\"T_6ec13_row8_col4\" class=\"data row8 col4\" >0.9333</td>\n",
       "      <td id=\"T_6ec13_row8_col5\" class=\"data row8 col5\" >0.9289</td>\n",
       "      <td id=\"T_6ec13_row8_col6\" class=\"data row8 col6\" >0.9128</td>\n",
       "      <td id=\"T_6ec13_row8_col7\" class=\"data row8 col7\" >0.9130</td>\n",
       "      <td id=\"T_6ec13_row8_col8\" class=\"data row8 col8\" >0.2230</td>\n",
       "    </tr>\n",
       "    <tr>\n",
       "      <th id=\"T_6ec13_level0_row9\" class=\"row_heading level0 row9\" >svm</th>\n",
       "      <td id=\"T_6ec13_row9_col0\" class=\"data row9 col0\" >SVM - Linear Kernel</td>\n",
       "      <td id=\"T_6ec13_row9_col1\" class=\"data row9 col1\" >0.9762</td>\n",
       "      <td id=\"T_6ec13_row9_col2\" class=\"data row9 col2\" >0.0000</td>\n",
       "      <td id=\"T_6ec13_row9_col3\" class=\"data row9 col3\" >0.9123</td>\n",
       "      <td id=\"T_6ec13_row9_col4\" class=\"data row9 col4\" >0.9583</td>\n",
       "      <td id=\"T_6ec13_row9_col5\" class=\"data row9 col5\" >0.9342</td>\n",
       "      <td id=\"T_6ec13_row9_col6\" class=\"data row9 col6\" >0.9197</td>\n",
       "      <td id=\"T_6ec13_row9_col7\" class=\"data row9 col7\" >0.9205</td>\n",
       "      <td id=\"T_6ec13_row9_col8\" class=\"data row9 col8\" >0.1930</td>\n",
       "    </tr>\n",
       "    <tr>\n",
       "      <th id=\"T_6ec13_level0_row10\" class=\"row_heading level0 row10\" >qda</th>\n",
       "      <td id=\"T_6ec13_row10_col0\" class=\"data row10 col0\" >Quadratic Discriminant Analysis</td>\n",
       "      <td id=\"T_6ec13_row10_col1\" class=\"data row10 col1\" >0.9548</td>\n",
       "      <td id=\"T_6ec13_row10_col2\" class=\"data row10 col2\" >0.9308</td>\n",
       "      <td id=\"T_6ec13_row10_col3\" class=\"data row10 col3\" >0.7923</td>\n",
       "      <td id=\"T_6ec13_row10_col4\" class=\"data row10 col4\" >0.9646</td>\n",
       "      <td id=\"T_6ec13_row10_col5\" class=\"data row10 col5\" >0.8536</td>\n",
       "      <td id=\"T_6ec13_row10_col6\" class=\"data row10 col6\" >0.8289</td>\n",
       "      <td id=\"T_6ec13_row10_col7\" class=\"data row10 col7\" >0.8436</td>\n",
       "      <td id=\"T_6ec13_row10_col8\" class=\"data row10 col8\" >0.2330</td>\n",
       "    </tr>\n",
       "    <tr>\n",
       "      <th id=\"T_6ec13_level0_row11\" class=\"row_heading level0 row11\" >lda</th>\n",
       "      <td id=\"T_6ec13_row11_col0\" class=\"data row11 col0\" >Linear Discriminant Analysis</td>\n",
       "      <td id=\"T_6ec13_row11_col1\" class=\"data row11 col1\" >0.9008</td>\n",
       "      <td id=\"T_6ec13_row11_col2\" class=\"data row11 col2\" >0.9917</td>\n",
       "      <td id=\"T_6ec13_row11_col3\" class=\"data row11 col3\" >0.4673</td>\n",
       "      <td id=\"T_6ec13_row11_col4\" class=\"data row11 col4\" >1.0000</td>\n",
       "      <td id=\"T_6ec13_row11_col5\" class=\"data row11 col5\" >0.6364</td>\n",
       "      <td id=\"T_6ec13_row11_col6\" class=\"data row11 col6\" >0.5877</td>\n",
       "      <td id=\"T_6ec13_row11_col7\" class=\"data row11 col7\" >0.6452</td>\n",
       "      <td id=\"T_6ec13_row11_col8\" class=\"data row11 col8\" >0.5450</td>\n",
       "    </tr>\n",
       "    <tr>\n",
       "      <th id=\"T_6ec13_level0_row12\" class=\"row_heading level0 row12\" >ridge</th>\n",
       "      <td id=\"T_6ec13_row12_col0\" class=\"data row12 col0\" >Ridge Classifier</td>\n",
       "      <td id=\"T_6ec13_row12_col1\" class=\"data row12 col1\" >0.8957</td>\n",
       "      <td id=\"T_6ec13_row12_col2\" class=\"data row12 col2\" >0.0000</td>\n",
       "      <td id=\"T_6ec13_row12_col3\" class=\"data row12 col3\" >0.4398</td>\n",
       "      <td id=\"T_6ec13_row12_col4\" class=\"data row12 col4\" >1.0000</td>\n",
       "      <td id=\"T_6ec13_row12_col5\" class=\"data row12 col5\" >0.6105</td>\n",
       "      <td id=\"T_6ec13_row12_col6\" class=\"data row12 col6\" >0.5606</td>\n",
       "      <td id=\"T_6ec13_row12_col7\" class=\"data row12 col7\" >0.6242</td>\n",
       "      <td id=\"T_6ec13_row12_col8\" class=\"data row12 col8\" >0.1900</td>\n",
       "    </tr>\n",
       "    <tr>\n",
       "      <th id=\"T_6ec13_level0_row13\" class=\"row_heading level0 row13\" >dummy</th>\n",
       "      <td id=\"T_6ec13_row13_col0\" class=\"data row13 col0\" >Dummy Classifier</td>\n",
       "      <td id=\"T_6ec13_row13_col1\" class=\"data row13 col1\" >0.8138</td>\n",
       "      <td id=\"T_6ec13_row13_col2\" class=\"data row13 col2\" >0.5000</td>\n",
       "      <td id=\"T_6ec13_row13_col3\" class=\"data row13 col3\" >0.0000</td>\n",
       "      <td id=\"T_6ec13_row13_col4\" class=\"data row13 col4\" >0.0000</td>\n",
       "      <td id=\"T_6ec13_row13_col5\" class=\"data row13 col5\" >0.0000</td>\n",
       "      <td id=\"T_6ec13_row13_col6\" class=\"data row13 col6\" >0.0000</td>\n",
       "      <td id=\"T_6ec13_row13_col7\" class=\"data row13 col7\" >0.0000</td>\n",
       "      <td id=\"T_6ec13_row13_col8\" class=\"data row13 col8\" >0.2860</td>\n",
       "    </tr>\n",
       "  </tbody>\n",
       "</table>\n"
      ],
      "text/plain": [
       "<pandas.io.formats.style.Styler at 0x2cca5a391c0>"
      ]
     },
     "metadata": {},
     "output_type": "display_data"
    },
    {
     "data": {
      "text/html": [],
      "text/plain": [
       "<IPython.core.display.HTML object>"
      ]
     },
     "metadata": {},
     "output_type": "display_data"
    }
   ],
   "source": [
    "top3 = compare_models(n_select = 3, sort = 'Recall')"
   ]
  },
  {
   "cell_type": "code",
   "execution_count": 43,
   "id": "8dc745a5",
   "metadata": {},
   "outputs": [
    {
     "data": {
      "text/html": [],
      "text/plain": [
       "<IPython.core.display.HTML object>"
      ]
     },
     "metadata": {},
     "output_type": "display_data"
    },
    {
     "data": {
      "text/html": [
       "<style type=\"text/css\">\n",
       "#T_e4e6f_row10_col0, #T_e4e6f_row10_col1, #T_e4e6f_row10_col2, #T_e4e6f_row10_col3, #T_e4e6f_row10_col4, #T_e4e6f_row10_col5, #T_e4e6f_row10_col6 {\n",
       "  background: yellow;\n",
       "}\n",
       "</style>\n",
       "<table id=\"T_e4e6f\">\n",
       "  <thead>\n",
       "    <tr>\n",
       "      <th class=\"blank level0\" >&nbsp;</th>\n",
       "      <th id=\"T_e4e6f_level0_col0\" class=\"col_heading level0 col0\" >Accuracy</th>\n",
       "      <th id=\"T_e4e6f_level0_col1\" class=\"col_heading level0 col1\" >AUC</th>\n",
       "      <th id=\"T_e4e6f_level0_col2\" class=\"col_heading level0 col2\" >Recall</th>\n",
       "      <th id=\"T_e4e6f_level0_col3\" class=\"col_heading level0 col3\" >Prec.</th>\n",
       "      <th id=\"T_e4e6f_level0_col4\" class=\"col_heading level0 col4\" >F1</th>\n",
       "      <th id=\"T_e4e6f_level0_col5\" class=\"col_heading level0 col5\" >Kappa</th>\n",
       "      <th id=\"T_e4e6f_level0_col6\" class=\"col_heading level0 col6\" >MCC</th>\n",
       "    </tr>\n",
       "    <tr>\n",
       "      <th class=\"index_name level0\" >Fold</th>\n",
       "      <th class=\"blank col0\" >&nbsp;</th>\n",
       "      <th class=\"blank col1\" >&nbsp;</th>\n",
       "      <th class=\"blank col2\" >&nbsp;</th>\n",
       "      <th class=\"blank col3\" >&nbsp;</th>\n",
       "      <th class=\"blank col4\" >&nbsp;</th>\n",
       "      <th class=\"blank col5\" >&nbsp;</th>\n",
       "      <th class=\"blank col6\" >&nbsp;</th>\n",
       "    </tr>\n",
       "  </thead>\n",
       "  <tbody>\n",
       "    <tr>\n",
       "      <th id=\"T_e4e6f_level0_row0\" class=\"row_heading level0 row0\" >0</th>\n",
       "      <td id=\"T_e4e6f_row0_col0\" class=\"data row0 col0\" >0.9810</td>\n",
       "      <td id=\"T_e4e6f_row0_col1\" class=\"data row0 col1\" >0.9974</td>\n",
       "      <td id=\"T_e4e6f_row0_col2\" class=\"data row0 col2\" >0.9936</td>\n",
       "      <td id=\"T_e4e6f_row0_col3\" class=\"data row0 col3\" >0.9123</td>\n",
       "      <td id=\"T_e4e6f_row0_col4\" class=\"data row0 col4\" >0.9512</td>\n",
       "      <td id=\"T_e4e6f_row0_col5\" class=\"data row0 col5\" >0.9394</td>\n",
       "      <td id=\"T_e4e6f_row0_col6\" class=\"data row0 col6\" >0.9407</td>\n",
       "    </tr>\n",
       "    <tr>\n",
       "      <th id=\"T_e4e6f_level0_row1\" class=\"row_heading level0 row1\" >1</th>\n",
       "      <td id=\"T_e4e6f_row1_col0\" class=\"data row1 col0\" >0.9845</td>\n",
       "      <td id=\"T_e4e6f_row1_col1\" class=\"data row1 col1\" >0.9983</td>\n",
       "      <td id=\"T_e4e6f_row1_col2\" class=\"data row1 col2\" >0.9682</td>\n",
       "      <td id=\"T_e4e6f_row1_col3\" class=\"data row1 col3\" >0.9500</td>\n",
       "      <td id=\"T_e4e6f_row1_col4\" class=\"data row1 col4\" >0.9590</td>\n",
       "      <td id=\"T_e4e6f_row1_col5\" class=\"data row1 col5\" >0.9495</td>\n",
       "      <td id=\"T_e4e6f_row1_col6\" class=\"data row1 col6\" >0.9495</td>\n",
       "    </tr>\n",
       "    <tr>\n",
       "      <th id=\"T_e4e6f_level0_row2\" class=\"row_heading level0 row2\" >2</th>\n",
       "      <td id=\"T_e4e6f_row2_col0\" class=\"data row2 col0\" >0.9726</td>\n",
       "      <td id=\"T_e4e6f_row2_col1\" class=\"data row2 col1\" >0.9968</td>\n",
       "      <td id=\"T_e4e6f_row2_col2\" class=\"data row2 col2\" >0.9873</td>\n",
       "      <td id=\"T_e4e6f_row2_col3\" class=\"data row2 col3\" >0.8807</td>\n",
       "      <td id=\"T_e4e6f_row2_col4\" class=\"data row2 col4\" >0.9309</td>\n",
       "      <td id=\"T_e4e6f_row2_col5\" class=\"data row2 col5\" >0.9139</td>\n",
       "      <td id=\"T_e4e6f_row2_col6\" class=\"data row2 col6\" >0.9162</td>\n",
       "    </tr>\n",
       "    <tr>\n",
       "      <th id=\"T_e4e6f_level0_row3\" class=\"row_heading level0 row3\" >3</th>\n",
       "      <td id=\"T_e4e6f_row3_col0\" class=\"data row3 col0\" >0.9810</td>\n",
       "      <td id=\"T_e4e6f_row3_col1\" class=\"data row3 col1\" >0.9981</td>\n",
       "      <td id=\"T_e4e6f_row3_col2\" class=\"data row3 col2\" >0.9745</td>\n",
       "      <td id=\"T_e4e6f_row3_col3\" class=\"data row3 col3\" >0.9273</td>\n",
       "      <td id=\"T_e4e6f_row3_col4\" class=\"data row3 col4\" >0.9503</td>\n",
       "      <td id=\"T_e4e6f_row3_col5\" class=\"data row3 col5\" >0.9385</td>\n",
       "      <td id=\"T_e4e6f_row3_col6\" class=\"data row3 col6\" >0.9390</td>\n",
       "    </tr>\n",
       "    <tr>\n",
       "      <th id=\"T_e4e6f_level0_row4\" class=\"row_heading level0 row4\" >4</th>\n",
       "      <td id=\"T_e4e6f_row4_col0\" class=\"data row4 col0\" >0.9798</td>\n",
       "      <td id=\"T_e4e6f_row4_col1\" class=\"data row4 col1\" >0.9966</td>\n",
       "      <td id=\"T_e4e6f_row4_col2\" class=\"data row4 col2\" >0.9936</td>\n",
       "      <td id=\"T_e4e6f_row4_col3\" class=\"data row4 col3\" >0.9064</td>\n",
       "      <td id=\"T_e4e6f_row4_col4\" class=\"data row4 col4\" >0.9480</td>\n",
       "      <td id=\"T_e4e6f_row4_col5\" class=\"data row4 col5\" >0.9355</td>\n",
       "      <td id=\"T_e4e6f_row4_col6\" class=\"data row4 col6\" >0.9370</td>\n",
       "    </tr>\n",
       "    <tr>\n",
       "      <th id=\"T_e4e6f_level0_row5\" class=\"row_heading level0 row5\" >5</th>\n",
       "      <td id=\"T_e4e6f_row5_col0\" class=\"data row5 col0\" >0.9845</td>\n",
       "      <td id=\"T_e4e6f_row5_col1\" class=\"data row5 col1\" >0.9982</td>\n",
       "      <td id=\"T_e4e6f_row5_col2\" class=\"data row5 col2\" >0.9808</td>\n",
       "      <td id=\"T_e4e6f_row5_col3\" class=\"data row5 col3\" >0.9387</td>\n",
       "      <td id=\"T_e4e6f_row5_col4\" class=\"data row5 col4\" >0.9592</td>\n",
       "      <td id=\"T_e4e6f_row5_col5\" class=\"data row5 col5\" >0.9497</td>\n",
       "      <td id=\"T_e4e6f_row5_col6\" class=\"data row5 col6\" >0.9501</td>\n",
       "    </tr>\n",
       "    <tr>\n",
       "      <th id=\"T_e4e6f_level0_row6\" class=\"row_heading level0 row6\" >6</th>\n",
       "      <td id=\"T_e4e6f_row6_col0\" class=\"data row6 col0\" >0.9810</td>\n",
       "      <td id=\"T_e4e6f_row6_col1\" class=\"data row6 col1\" >0.9980</td>\n",
       "      <td id=\"T_e4e6f_row6_col2\" class=\"data row6 col2\" >0.9679</td>\n",
       "      <td id=\"T_e4e6f_row6_col3\" class=\"data row6 col3\" >0.9321</td>\n",
       "      <td id=\"T_e4e6f_row6_col4\" class=\"data row6 col4\" >0.9497</td>\n",
       "      <td id=\"T_e4e6f_row6_col5\" class=\"data row6 col5\" >0.9379</td>\n",
       "      <td id=\"T_e4e6f_row6_col6\" class=\"data row6 col6\" >0.9382</td>\n",
       "    </tr>\n",
       "    <tr>\n",
       "      <th id=\"T_e4e6f_level0_row7\" class=\"row_heading level0 row7\" >7</th>\n",
       "      <td id=\"T_e4e6f_row7_col0\" class=\"data row7 col0\" >0.9810</td>\n",
       "      <td id=\"T_e4e6f_row7_col1\" class=\"data row7 col1\" >0.9968</td>\n",
       "      <td id=\"T_e4e6f_row7_col2\" class=\"data row7 col2\" >0.9872</td>\n",
       "      <td id=\"T_e4e6f_row7_col3\" class=\"data row7 col3\" >0.9167</td>\n",
       "      <td id=\"T_e4e6f_row7_col4\" class=\"data row7 col4\" >0.9506</td>\n",
       "      <td id=\"T_e4e6f_row7_col5\" class=\"data row7 col5\" >0.9388</td>\n",
       "      <td id=\"T_e4e6f_row7_col6\" class=\"data row7 col6\" >0.9398</td>\n",
       "    </tr>\n",
       "    <tr>\n",
       "      <th id=\"T_e4e6f_level0_row8\" class=\"row_heading level0 row8\" >8</th>\n",
       "      <td id=\"T_e4e6f_row8_col0\" class=\"data row8 col0\" >0.9798</td>\n",
       "      <td id=\"T_e4e6f_row8_col1\" class=\"data row8 col1\" >0.9977</td>\n",
       "      <td id=\"T_e4e6f_row8_col2\" class=\"data row8 col2\" >0.9744</td>\n",
       "      <td id=\"T_e4e6f_row8_col3\" class=\"data row8 col3\" >0.9212</td>\n",
       "      <td id=\"T_e4e6f_row8_col4\" class=\"data row8 col4\" >0.9470</td>\n",
       "      <td id=\"T_e4e6f_row8_col5\" class=\"data row8 col5\" >0.9345</td>\n",
       "      <td id=\"T_e4e6f_row8_col6\" class=\"data row8 col6\" >0.9351</td>\n",
       "    </tr>\n",
       "    <tr>\n",
       "      <th id=\"T_e4e6f_level0_row9\" class=\"row_heading level0 row9\" >9</th>\n",
       "      <td id=\"T_e4e6f_row9_col0\" class=\"data row9 col0\" >0.9809</td>\n",
       "      <td id=\"T_e4e6f_row9_col1\" class=\"data row9 col1\" >0.9973</td>\n",
       "      <td id=\"T_e4e6f_row9_col2\" class=\"data row9 col2\" >0.9487</td>\n",
       "      <td id=\"T_e4e6f_row9_col3\" class=\"data row9 col3\" >0.9487</td>\n",
       "      <td id=\"T_e4e6f_row9_col4\" class=\"data row9 col4\" >0.9487</td>\n",
       "      <td id=\"T_e4e6f_row9_col5\" class=\"data row9 col5\" >0.9370</td>\n",
       "      <td id=\"T_e4e6f_row9_col6\" class=\"data row9 col6\" >0.9370</td>\n",
       "    </tr>\n",
       "    <tr>\n",
       "      <th id=\"T_e4e6f_level0_row10\" class=\"row_heading level0 row10\" >Mean</th>\n",
       "      <td id=\"T_e4e6f_row10_col0\" class=\"data row10 col0\" >0.9806</td>\n",
       "      <td id=\"T_e4e6f_row10_col1\" class=\"data row10 col1\" >0.9975</td>\n",
       "      <td id=\"T_e4e6f_row10_col2\" class=\"data row10 col2\" >0.9776</td>\n",
       "      <td id=\"T_e4e6f_row10_col3\" class=\"data row10 col3\" >0.9234</td>\n",
       "      <td id=\"T_e4e6f_row10_col4\" class=\"data row10 col4\" >0.9495</td>\n",
       "      <td id=\"T_e4e6f_row10_col5\" class=\"data row10 col5\" >0.9375</td>\n",
       "      <td id=\"T_e4e6f_row10_col6\" class=\"data row10 col6\" >0.9383</td>\n",
       "    </tr>\n",
       "    <tr>\n",
       "      <th id=\"T_e4e6f_level0_row11\" class=\"row_heading level0 row11\" >Std</th>\n",
       "      <td id=\"T_e4e6f_row11_col0\" class=\"data row11 col0\" >0.0031</td>\n",
       "      <td id=\"T_e4e6f_row11_col1\" class=\"data row11 col1\" >0.0006</td>\n",
       "      <td id=\"T_e4e6f_row11_col2\" class=\"data row11 col2\" >0.0132</td>\n",
       "      <td id=\"T_e4e6f_row11_col3\" class=\"data row11 col3\" >0.0199</td>\n",
       "      <td id=\"T_e4e6f_row11_col4\" class=\"data row11 col4\" >0.0074</td>\n",
       "      <td id=\"T_e4e6f_row11_col5\" class=\"data row11 col5\" >0.0093</td>\n",
       "      <td id=\"T_e4e6f_row11_col6\" class=\"data row11 col6\" >0.0088</td>\n",
       "    </tr>\n",
       "  </tbody>\n",
       "</table>\n"
      ],
      "text/plain": [
       "<pandas.io.formats.style.Styler at 0x2cca39f09d0>"
      ]
     },
     "metadata": {},
     "output_type": "display_data"
    },
    {
     "data": {
      "text/html": [],
      "text/plain": [
       "<IPython.core.display.HTML object>"
      ]
     },
     "metadata": {},
     "output_type": "display_data"
    },
    {
     "name": "stdout",
     "output_type": "stream",
     "text": [
      "Fitting 10 folds for each of 10 candidates, totalling 100 fits\n"
     ]
    },
    {
     "data": {
      "text/html": [],
      "text/plain": [
       "<IPython.core.display.HTML object>"
      ]
     },
     "metadata": {},
     "output_type": "display_data"
    },
    {
     "data": {
      "text/html": [
       "<style type=\"text/css\">\n",
       "#T_a212f_row10_col0, #T_a212f_row10_col1, #T_a212f_row10_col2, #T_a212f_row10_col3, #T_a212f_row10_col4, #T_a212f_row10_col5, #T_a212f_row10_col6 {\n",
       "  background: yellow;\n",
       "}\n",
       "</style>\n",
       "<table id=\"T_a212f\">\n",
       "  <thead>\n",
       "    <tr>\n",
       "      <th class=\"blank level0\" >&nbsp;</th>\n",
       "      <th id=\"T_a212f_level0_col0\" class=\"col_heading level0 col0\" >Accuracy</th>\n",
       "      <th id=\"T_a212f_level0_col1\" class=\"col_heading level0 col1\" >AUC</th>\n",
       "      <th id=\"T_a212f_level0_col2\" class=\"col_heading level0 col2\" >Recall</th>\n",
       "      <th id=\"T_a212f_level0_col3\" class=\"col_heading level0 col3\" >Prec.</th>\n",
       "      <th id=\"T_a212f_level0_col4\" class=\"col_heading level0 col4\" >F1</th>\n",
       "      <th id=\"T_a212f_level0_col5\" class=\"col_heading level0 col5\" >Kappa</th>\n",
       "      <th id=\"T_a212f_level0_col6\" class=\"col_heading level0 col6\" >MCC</th>\n",
       "    </tr>\n",
       "    <tr>\n",
       "      <th class=\"index_name level0\" >Fold</th>\n",
       "      <th class=\"blank col0\" >&nbsp;</th>\n",
       "      <th class=\"blank col1\" >&nbsp;</th>\n",
       "      <th class=\"blank col2\" >&nbsp;</th>\n",
       "      <th class=\"blank col3\" >&nbsp;</th>\n",
       "      <th class=\"blank col4\" >&nbsp;</th>\n",
       "      <th class=\"blank col5\" >&nbsp;</th>\n",
       "      <th class=\"blank col6\" >&nbsp;</th>\n",
       "    </tr>\n",
       "  </thead>\n",
       "  <tbody>\n",
       "    <tr>\n",
       "      <th id=\"T_a212f_level0_row0\" class=\"row_heading level0 row0\" >0</th>\n",
       "      <td id=\"T_a212f_row0_col0\" class=\"data row0 col0\" >0.9774</td>\n",
       "      <td id=\"T_a212f_row0_col1\" class=\"data row0 col1\" >0.9985</td>\n",
       "      <td id=\"T_a212f_row0_col2\" class=\"data row0 col2\" >1.0000</td>\n",
       "      <td id=\"T_a212f_row0_col3\" class=\"data row0 col3\" >0.8920</td>\n",
       "      <td id=\"T_a212f_row0_col4\" class=\"data row0 col4\" >0.9429</td>\n",
       "      <td id=\"T_a212f_row0_col5\" class=\"data row0 col5\" >0.9289</td>\n",
       "      <td id=\"T_a212f_row0_col6\" class=\"data row0 col6\" >0.9313</td>\n",
       "    </tr>\n",
       "    <tr>\n",
       "      <th id=\"T_a212f_level0_row1\" class=\"row_heading level0 row1\" >1</th>\n",
       "      <td id=\"T_a212f_row1_col0\" class=\"data row1 col0\" >0.9762</td>\n",
       "      <td id=\"T_a212f_row1_col1\" class=\"data row1 col1\" >0.9983</td>\n",
       "      <td id=\"T_a212f_row1_col2\" class=\"data row1 col2\" >0.9936</td>\n",
       "      <td id=\"T_a212f_row1_col3\" class=\"data row1 col3\" >0.8914</td>\n",
       "      <td id=\"T_a212f_row1_col4\" class=\"data row1 col4\" >0.9398</td>\n",
       "      <td id=\"T_a212f_row1_col5\" class=\"data row1 col5\" >0.9250</td>\n",
       "      <td id=\"T_a212f_row1_col6\" class=\"data row1 col6\" >0.9271</td>\n",
       "    </tr>\n",
       "    <tr>\n",
       "      <th id=\"T_a212f_level0_row2\" class=\"row_heading level0 row2\" >2</th>\n",
       "      <td id=\"T_a212f_row2_col0\" class=\"data row2 col0\" >0.9726</td>\n",
       "      <td id=\"T_a212f_row2_col1\" class=\"data row2 col1\" >0.9974</td>\n",
       "      <td id=\"T_a212f_row2_col2\" class=\"data row2 col2\" >0.9936</td>\n",
       "      <td id=\"T_a212f_row2_col3\" class=\"data row2 col3\" >0.8764</td>\n",
       "      <td id=\"T_a212f_row2_col4\" class=\"data row2 col4\" >0.9313</td>\n",
       "      <td id=\"T_a212f_row2_col5\" class=\"data row2 col5\" >0.9143</td>\n",
       "      <td id=\"T_a212f_row2_col6\" class=\"data row2 col6\" >0.9171</td>\n",
       "    </tr>\n",
       "    <tr>\n",
       "      <th id=\"T_a212f_level0_row3\" class=\"row_heading level0 row3\" >3</th>\n",
       "      <td id=\"T_a212f_row3_col0\" class=\"data row3 col0\" >0.9786</td>\n",
       "      <td id=\"T_a212f_row3_col1\" class=\"data row3 col1\" >0.9984</td>\n",
       "      <td id=\"T_a212f_row3_col2\" class=\"data row3 col2\" >0.9936</td>\n",
       "      <td id=\"T_a212f_row3_col3\" class=\"data row3 col3\" >0.9017</td>\n",
       "      <td id=\"T_a212f_row3_col4\" class=\"data row3 col4\" >0.9455</td>\n",
       "      <td id=\"T_a212f_row3_col5\" class=\"data row3 col5\" >0.9322</td>\n",
       "      <td id=\"T_a212f_row3_col6\" class=\"data row3 col6\" >0.9339</td>\n",
       "    </tr>\n",
       "    <tr>\n",
       "      <th id=\"T_a212f_level0_row4\" class=\"row_heading level0 row4\" >4</th>\n",
       "      <td id=\"T_a212f_row4_col0\" class=\"data row4 col0\" >0.9750</td>\n",
       "      <td id=\"T_a212f_row4_col1\" class=\"data row4 col1\" >0.9977</td>\n",
       "      <td id=\"T_a212f_row4_col2\" class=\"data row4 col2\" >0.9936</td>\n",
       "      <td id=\"T_a212f_row4_col3\" class=\"data row4 col3\" >0.8857</td>\n",
       "      <td id=\"T_a212f_row4_col4\" class=\"data row4 col4\" >0.9366</td>\n",
       "      <td id=\"T_a212f_row4_col5\" class=\"data row4 col5\" >0.9211</td>\n",
       "      <td id=\"T_a212f_row4_col6\" class=\"data row4 col6\" >0.9234</td>\n",
       "    </tr>\n",
       "    <tr>\n",
       "      <th id=\"T_a212f_level0_row5\" class=\"row_heading level0 row5\" >5</th>\n",
       "      <td id=\"T_a212f_row5_col0\" class=\"data row5 col0\" >0.9762</td>\n",
       "      <td id=\"T_a212f_row5_col1\" class=\"data row5 col1\" >0.9981</td>\n",
       "      <td id=\"T_a212f_row5_col2\" class=\"data row5 col2\" >1.0000</td>\n",
       "      <td id=\"T_a212f_row5_col3\" class=\"data row5 col3\" >0.8864</td>\n",
       "      <td id=\"T_a212f_row5_col4\" class=\"data row5 col4\" >0.9398</td>\n",
       "      <td id=\"T_a212f_row5_col5\" class=\"data row5 col5\" >0.9250</td>\n",
       "      <td id=\"T_a212f_row5_col6\" class=\"data row5 col6\" >0.9276</td>\n",
       "    </tr>\n",
       "    <tr>\n",
       "      <th id=\"T_a212f_level0_row6\" class=\"row_heading level0 row6\" >6</th>\n",
       "      <td id=\"T_a212f_row6_col0\" class=\"data row6 col0\" >0.9821</td>\n",
       "      <td id=\"T_a212f_row6_col1\" class=\"data row6 col1\" >0.9978</td>\n",
       "      <td id=\"T_a212f_row6_col2\" class=\"data row6 col2\" >0.9808</td>\n",
       "      <td id=\"T_a212f_row6_col3\" class=\"data row6 col3\" >0.9273</td>\n",
       "      <td id=\"T_a212f_row6_col4\" class=\"data row6 col4\" >0.9533</td>\n",
       "      <td id=\"T_a212f_row6_col5\" class=\"data row6 col5\" >0.9422</td>\n",
       "      <td id=\"T_a212f_row6_col6\" class=\"data row6 col6\" >0.9428</td>\n",
       "    </tr>\n",
       "    <tr>\n",
       "      <th id=\"T_a212f_level0_row7\" class=\"row_heading level0 row7\" >7</th>\n",
       "      <td id=\"T_a212f_row7_col0\" class=\"data row7 col0\" >0.9798</td>\n",
       "      <td id=\"T_a212f_row7_col1\" class=\"data row7 col1\" >0.9977</td>\n",
       "      <td id=\"T_a212f_row7_col2\" class=\"data row7 col2\" >0.9872</td>\n",
       "      <td id=\"T_a212f_row7_col3\" class=\"data row7 col3\" >0.9112</td>\n",
       "      <td id=\"T_a212f_row7_col4\" class=\"data row7 col4\" >0.9477</td>\n",
       "      <td id=\"T_a212f_row7_col5\" class=\"data row7 col5\" >0.9352</td>\n",
       "      <td id=\"T_a212f_row7_col6\" class=\"data row7 col6\" >0.9363</td>\n",
       "    </tr>\n",
       "    <tr>\n",
       "      <th id=\"T_a212f_level0_row8\" class=\"row_heading level0 row8\" >8</th>\n",
       "      <td id=\"T_a212f_row8_col0\" class=\"data row8 col0\" >0.9810</td>\n",
       "      <td id=\"T_a212f_row8_col1\" class=\"data row8 col1\" >0.9980</td>\n",
       "      <td id=\"T_a212f_row8_col2\" class=\"data row8 col2\" >0.9808</td>\n",
       "      <td id=\"T_a212f_row8_col3\" class=\"data row8 col3\" >0.9217</td>\n",
       "      <td id=\"T_a212f_row8_col4\" class=\"data row8 col4\" >0.9503</td>\n",
       "      <td id=\"T_a212f_row8_col5\" class=\"data row8 col5\" >0.9385</td>\n",
       "      <td id=\"T_a212f_row8_col6\" class=\"data row8 col6\" >0.9392</td>\n",
       "    </tr>\n",
       "    <tr>\n",
       "      <th id=\"T_a212f_level0_row9\" class=\"row_heading level0 row9\" >9</th>\n",
       "      <td id=\"T_a212f_row9_col0\" class=\"data row9 col0\" >0.9785</td>\n",
       "      <td id=\"T_a212f_row9_col1\" class=\"data row9 col1\" >0.9978</td>\n",
       "      <td id=\"T_a212f_row9_col2\" class=\"data row9 col2\" >0.9615</td>\n",
       "      <td id=\"T_a212f_row9_col3\" class=\"data row9 col3\" >0.9259</td>\n",
       "      <td id=\"T_a212f_row9_col4\" class=\"data row9 col4\" >0.9434</td>\n",
       "      <td id=\"T_a212f_row9_col5\" class=\"data row9 col5\" >0.9302</td>\n",
       "      <td id=\"T_a212f_row9_col6\" class=\"data row9 col6\" >0.9304</td>\n",
       "    </tr>\n",
       "    <tr>\n",
       "      <th id=\"T_a212f_level0_row10\" class=\"row_heading level0 row10\" >Mean</th>\n",
       "      <td id=\"T_a212f_row10_col0\" class=\"data row10 col0\" >0.9777</td>\n",
       "      <td id=\"T_a212f_row10_col1\" class=\"data row10 col1\" >0.9980</td>\n",
       "      <td id=\"T_a212f_row10_col2\" class=\"data row10 col2\" >0.9885</td>\n",
       "      <td id=\"T_a212f_row10_col3\" class=\"data row10 col3\" >0.9020</td>\n",
       "      <td id=\"T_a212f_row10_col4\" class=\"data row10 col4\" >0.9430</td>\n",
       "      <td id=\"T_a212f_row10_col5\" class=\"data row10 col5\" >0.9293</td>\n",
       "      <td id=\"T_a212f_row10_col6\" class=\"data row10 col6\" >0.9309</td>\n",
       "    </tr>\n",
       "    <tr>\n",
       "      <th id=\"T_a212f_level0_row11\" class=\"row_heading level0 row11\" >Std</th>\n",
       "      <td id=\"T_a212f_row11_col0\" class=\"data row11 col0\" >0.0027</td>\n",
       "      <td id=\"T_a212f_row11_col1\" class=\"data row11 col1\" >0.0003</td>\n",
       "      <td id=\"T_a212f_row11_col2\" class=\"data row11 col2\" >0.0110</td>\n",
       "      <td id=\"T_a212f_row11_col3\" class=\"data row11 col3\" >0.0175</td>\n",
       "      <td id=\"T_a212f_row11_col4\" class=\"data row11 col4\" >0.0062</td>\n",
       "      <td id=\"T_a212f_row11_col5\" class=\"data row11 col5\" >0.0079</td>\n",
       "      <td id=\"T_a212f_row11_col6\" class=\"data row11 col6\" >0.0072</td>\n",
       "    </tr>\n",
       "  </tbody>\n",
       "</table>\n"
      ],
      "text/plain": [
       "<pandas.io.formats.style.Styler at 0x2ccab6ced30>"
      ]
     },
     "metadata": {},
     "output_type": "display_data"
    },
    {
     "data": {
      "text/html": [],
      "text/plain": [
       "<IPython.core.display.HTML object>"
      ]
     },
     "metadata": {},
     "output_type": "display_data"
    },
    {
     "name": "stdout",
     "output_type": "stream",
     "text": [
      "Fitting 10 folds for each of 10 candidates, totalling 100 fits\n"
     ]
    },
    {
     "data": {
      "text/html": [],
      "text/plain": [
       "<IPython.core.display.HTML object>"
      ]
     },
     "metadata": {},
     "output_type": "display_data"
    },
    {
     "data": {
      "text/html": [
       "<style type=\"text/css\">\n",
       "#T_f2514_row10_col0, #T_f2514_row10_col1, #T_f2514_row10_col2, #T_f2514_row10_col3, #T_f2514_row10_col4, #T_f2514_row10_col5, #T_f2514_row10_col6 {\n",
       "  background: yellow;\n",
       "}\n",
       "</style>\n",
       "<table id=\"T_f2514\">\n",
       "  <thead>\n",
       "    <tr>\n",
       "      <th class=\"blank level0\" >&nbsp;</th>\n",
       "      <th id=\"T_f2514_level0_col0\" class=\"col_heading level0 col0\" >Accuracy</th>\n",
       "      <th id=\"T_f2514_level0_col1\" class=\"col_heading level0 col1\" >AUC</th>\n",
       "      <th id=\"T_f2514_level0_col2\" class=\"col_heading level0 col2\" >Recall</th>\n",
       "      <th id=\"T_f2514_level0_col3\" class=\"col_heading level0 col3\" >Prec.</th>\n",
       "      <th id=\"T_f2514_level0_col4\" class=\"col_heading level0 col4\" >F1</th>\n",
       "      <th id=\"T_f2514_level0_col5\" class=\"col_heading level0 col5\" >Kappa</th>\n",
       "      <th id=\"T_f2514_level0_col6\" class=\"col_heading level0 col6\" >MCC</th>\n",
       "    </tr>\n",
       "    <tr>\n",
       "      <th class=\"index_name level0\" >Fold</th>\n",
       "      <th class=\"blank col0\" >&nbsp;</th>\n",
       "      <th class=\"blank col1\" >&nbsp;</th>\n",
       "      <th class=\"blank col2\" >&nbsp;</th>\n",
       "      <th class=\"blank col3\" >&nbsp;</th>\n",
       "      <th class=\"blank col4\" >&nbsp;</th>\n",
       "      <th class=\"blank col5\" >&nbsp;</th>\n",
       "      <th class=\"blank col6\" >&nbsp;</th>\n",
       "    </tr>\n",
       "  </thead>\n",
       "  <tbody>\n",
       "    <tr>\n",
       "      <th id=\"T_f2514_level0_row0\" class=\"row_heading level0 row0\" >0</th>\n",
       "      <td id=\"T_f2514_row0_col0\" class=\"data row0 col0\" >0.9798</td>\n",
       "      <td id=\"T_f2514_row0_col1\" class=\"data row0 col1\" >0.9977</td>\n",
       "      <td id=\"T_f2514_row0_col2\" class=\"data row0 col2\" >1.0000</td>\n",
       "      <td id=\"T_f2514_row0_col3\" class=\"data row0 col3\" >0.9023</td>\n",
       "      <td id=\"T_f2514_row0_col4\" class=\"data row0 col4\" >0.9486</td>\n",
       "      <td id=\"T_f2514_row0_col5\" class=\"data row0 col5\" >0.9361</td>\n",
       "      <td id=\"T_f2514_row0_col6\" class=\"data row0 col6\" >0.9380</td>\n",
       "    </tr>\n",
       "    <tr>\n",
       "      <th id=\"T_f2514_level0_row1\" class=\"row_heading level0 row1\" >1</th>\n",
       "      <td id=\"T_f2514_row1_col0\" class=\"data row1 col0\" >0.9810</td>\n",
       "      <td id=\"T_f2514_row1_col1\" class=\"data row1 col1\" >0.9981</td>\n",
       "      <td id=\"T_f2514_row1_col2\" class=\"data row1 col2\" >0.9427</td>\n",
       "      <td id=\"T_f2514_row1_col3\" class=\"data row1 col3\" >0.9548</td>\n",
       "      <td id=\"T_f2514_row1_col4\" class=\"data row1 col4\" >0.9487</td>\n",
       "      <td id=\"T_f2514_row1_col5\" class=\"data row1 col5\" >0.9370</td>\n",
       "      <td id=\"T_f2514_row1_col6\" class=\"data row1 col6\" >0.9371</td>\n",
       "    </tr>\n",
       "    <tr>\n",
       "      <th id=\"T_f2514_level0_row2\" class=\"row_heading level0 row2\" >2</th>\n",
       "      <td id=\"T_f2514_row2_col0\" class=\"data row2 col0\" >0.9726</td>\n",
       "      <td id=\"T_f2514_row2_col1\" class=\"data row2 col1\" >0.9978</td>\n",
       "      <td id=\"T_f2514_row2_col2\" class=\"data row2 col2\" >0.9809</td>\n",
       "      <td id=\"T_f2514_row2_col3\" class=\"data row2 col3\" >0.8851</td>\n",
       "      <td id=\"T_f2514_row2_col4\" class=\"data row2 col4\" >0.9305</td>\n",
       "      <td id=\"T_f2514_row2_col5\" class=\"data row2 col5\" >0.9135</td>\n",
       "      <td id=\"T_f2514_row2_col6\" class=\"data row2 col6\" >0.9154</td>\n",
       "    </tr>\n",
       "    <tr>\n",
       "      <th id=\"T_f2514_level0_row3\" class=\"row_heading level0 row3\" >3</th>\n",
       "      <td id=\"T_f2514_row3_col0\" class=\"data row3 col0\" >0.9810</td>\n",
       "      <td id=\"T_f2514_row3_col1\" class=\"data row3 col1\" >0.9986</td>\n",
       "      <td id=\"T_f2514_row3_col2\" class=\"data row3 col2\" >0.9809</td>\n",
       "      <td id=\"T_f2514_row3_col3\" class=\"data row3 col3\" >0.9222</td>\n",
       "      <td id=\"T_f2514_row3_col4\" class=\"data row3 col4\" >0.9506</td>\n",
       "      <td id=\"T_f2514_row3_col5\" class=\"data row3 col5\" >0.9388</td>\n",
       "      <td id=\"T_f2514_row3_col6\" class=\"data row3 col6\" >0.9395</td>\n",
       "    </tr>\n",
       "    <tr>\n",
       "      <th id=\"T_f2514_level0_row4\" class=\"row_heading level0 row4\" >4</th>\n",
       "      <td id=\"T_f2514_row4_col0\" class=\"data row4 col0\" >0.9774</td>\n",
       "      <td id=\"T_f2514_row4_col1\" class=\"data row4 col1\" >0.9979</td>\n",
       "      <td id=\"T_f2514_row4_col2\" class=\"data row4 col2\" >0.9744</td>\n",
       "      <td id=\"T_f2514_row4_col3\" class=\"data row4 col3\" >0.9102</td>\n",
       "      <td id=\"T_f2514_row4_col4\" class=\"data row4 col4\" >0.9412</td>\n",
       "      <td id=\"T_f2514_row4_col5\" class=\"data row4 col5\" >0.9272</td>\n",
       "      <td id=\"T_f2514_row4_col6\" class=\"data row4 col6\" >0.9280</td>\n",
       "    </tr>\n",
       "    <tr>\n",
       "      <th id=\"T_f2514_level0_row5\" class=\"row_heading level0 row5\" >5</th>\n",
       "      <td id=\"T_f2514_row5_col0\" class=\"data row5 col0\" >0.9810</td>\n",
       "      <td id=\"T_f2514_row5_col1\" class=\"data row5 col1\" >0.9981</td>\n",
       "      <td id=\"T_f2514_row5_col2\" class=\"data row5 col2\" >0.9679</td>\n",
       "      <td id=\"T_f2514_row5_col3\" class=\"data row5 col3\" >0.9321</td>\n",
       "      <td id=\"T_f2514_row5_col4\" class=\"data row5 col4\" >0.9497</td>\n",
       "      <td id=\"T_f2514_row5_col5\" class=\"data row5 col5\" >0.9379</td>\n",
       "      <td id=\"T_f2514_row5_col6\" class=\"data row5 col6\" >0.9382</td>\n",
       "    </tr>\n",
       "    <tr>\n",
       "      <th id=\"T_f2514_level0_row6\" class=\"row_heading level0 row6\" >6</th>\n",
       "      <td id=\"T_f2514_row6_col0\" class=\"data row6 col0\" >0.9821</td>\n",
       "      <td id=\"T_f2514_row6_col1\" class=\"data row6 col1\" >0.9979</td>\n",
       "      <td id=\"T_f2514_row6_col2\" class=\"data row6 col2\" >0.9679</td>\n",
       "      <td id=\"T_f2514_row6_col3\" class=\"data row6 col3\" >0.9379</td>\n",
       "      <td id=\"T_f2514_row6_col4\" class=\"data row6 col4\" >0.9527</td>\n",
       "      <td id=\"T_f2514_row6_col5\" class=\"data row6 col5\" >0.9417</td>\n",
       "      <td id=\"T_f2514_row6_col6\" class=\"data row6 col6\" >0.9419</td>\n",
       "    </tr>\n",
       "    <tr>\n",
       "      <th id=\"T_f2514_level0_row7\" class=\"row_heading level0 row7\" >7</th>\n",
       "      <td id=\"T_f2514_row7_col0\" class=\"data row7 col0\" >0.9786</td>\n",
       "      <td id=\"T_f2514_row7_col1\" class=\"data row7 col1\" >0.9974</td>\n",
       "      <td id=\"T_f2514_row7_col2\" class=\"data row7 col2\" >0.9679</td>\n",
       "      <td id=\"T_f2514_row7_col3\" class=\"data row7 col3\" >0.9207</td>\n",
       "      <td id=\"T_f2514_row7_col4\" class=\"data row7 col4\" >0.9438</td>\n",
       "      <td id=\"T_f2514_row7_col5\" class=\"data row7 col5\" >0.9305</td>\n",
       "      <td id=\"T_f2514_row7_col6\" class=\"data row7 col6\" >0.9310</td>\n",
       "    </tr>\n",
       "    <tr>\n",
       "      <th id=\"T_f2514_level0_row8\" class=\"row_heading level0 row8\" >8</th>\n",
       "      <td id=\"T_f2514_row8_col0\" class=\"data row8 col0\" >0.9798</td>\n",
       "      <td id=\"T_f2514_row8_col1\" class=\"data row8 col1\" >0.9977</td>\n",
       "      <td id=\"T_f2514_row8_col2\" class=\"data row8 col2\" >0.9679</td>\n",
       "      <td id=\"T_f2514_row8_col3\" class=\"data row8 col3\" >0.9264</td>\n",
       "      <td id=\"T_f2514_row8_col4\" class=\"data row8 col4\" >0.9467</td>\n",
       "      <td id=\"T_f2514_row8_col5\" class=\"data row8 col5\" >0.9342</td>\n",
       "      <td id=\"T_f2514_row8_col6\" class=\"data row8 col6\" >0.9346</td>\n",
       "    </tr>\n",
       "    <tr>\n",
       "      <th id=\"T_f2514_level0_row9\" class=\"row_heading level0 row9\" >9</th>\n",
       "      <td id=\"T_f2514_row9_col0\" class=\"data row9 col0\" >0.9821</td>\n",
       "      <td id=\"T_f2514_row9_col1\" class=\"data row9 col1\" >0.9976</td>\n",
       "      <td id=\"T_f2514_row9_col2\" class=\"data row9 col2\" >0.9615</td>\n",
       "      <td id=\"T_f2514_row9_col3\" class=\"data row9 col3\" >0.9434</td>\n",
       "      <td id=\"T_f2514_row9_col4\" class=\"data row9 col4\" >0.9524</td>\n",
       "      <td id=\"T_f2514_row9_col5\" class=\"data row9 col5\" >0.9414</td>\n",
       "      <td id=\"T_f2514_row9_col6\" class=\"data row9 col6\" >0.9414</td>\n",
       "    </tr>\n",
       "    <tr>\n",
       "      <th id=\"T_f2514_level0_row10\" class=\"row_heading level0 row10\" >Mean</th>\n",
       "      <td id=\"T_f2514_row10_col0\" class=\"data row10 col0\" >0.9795</td>\n",
       "      <td id=\"T_f2514_row10_col1\" class=\"data row10 col1\" >0.9979</td>\n",
       "      <td id=\"T_f2514_row10_col2\" class=\"data row10 col2\" >0.9712</td>\n",
       "      <td id=\"T_f2514_row10_col3\" class=\"data row10 col3\" >0.9235</td>\n",
       "      <td id=\"T_f2514_row10_col4\" class=\"data row10 col4\" >0.9465</td>\n",
       "      <td id=\"T_f2514_row10_col5\" class=\"data row10 col5\" >0.9338</td>\n",
       "      <td id=\"T_f2514_row10_col6\" class=\"data row10 col6\" >0.9345</td>\n",
       "    </tr>\n",
       "    <tr>\n",
       "      <th id=\"T_f2514_level0_row11\" class=\"row_heading level0 row11\" >Std</th>\n",
       "      <td id=\"T_f2514_row11_col0\" class=\"data row11 col0\" >0.0027</td>\n",
       "      <td id=\"T_f2514_row11_col1\" class=\"data row11 col1\" >0.0003</td>\n",
       "      <td id=\"T_f2514_row11_col2\" class=\"data row11 col2\" >0.0141</td>\n",
       "      <td id=\"T_f2514_row11_col3\" class=\"data row11 col3\" >0.0194</td>\n",
       "      <td id=\"T_f2514_row11_col4\" class=\"data row11 col4\" >0.0063</td>\n",
       "      <td id=\"T_f2514_row11_col5\" class=\"data row11 col5\" >0.0080</td>\n",
       "      <td id=\"T_f2514_row11_col6\" class=\"data row11 col6\" >0.0076</td>\n",
       "    </tr>\n",
       "  </tbody>\n",
       "</table>\n"
      ],
      "text/plain": [
       "<pandas.io.formats.style.Styler at 0x2ccab641760>"
      ]
     },
     "metadata": {},
     "output_type": "display_data"
    },
    {
     "data": {
      "text/html": [],
      "text/plain": [
       "<IPython.core.display.HTML object>"
      ]
     },
     "metadata": {},
     "output_type": "display_data"
    },
    {
     "name": "stdout",
     "output_type": "stream",
     "text": [
      "Fitting 10 folds for each of 10 candidates, totalling 100 fits\n"
     ]
    }
   ],
   "source": [
    "tuned_top3 = [tune_model(i, optimize = 'Recall') for i in top3]"
   ]
  },
  {
   "cell_type": "code",
   "execution_count": 44,
   "id": "75be4d4d",
   "metadata": {},
   "outputs": [],
   "source": [
    "best_recall_model = automl(optimize = 'Recall')"
   ]
  },
  {
   "cell_type": "code",
   "execution_count": 45,
   "id": "5b77fb4c",
   "metadata": {},
   "outputs": [
    {
     "data": {
      "text/html": [],
      "text/plain": [
       "<IPython.core.display.HTML object>"
      ]
     },
     "metadata": {},
     "output_type": "display_data"
    },
    {
     "data": {
      "image/png": "[encoded data removed]",
      "text/plain": [
       "<Figure size 800x550 with 1 Axes>"
      ]
     },
     "metadata": {},
     "output_type": "display_data"
    }
   ],
   "source": [
    "plot_model(best_recall_model, plot = 'auc')"
   ]
  },
  {
   "cell_type": "code",
   "execution_count": 46,
   "id": "51fc065c",
   "metadata": {},
   "outputs": [
    {
     "data": {
      "text/html": [],
      "text/plain": [
       "<IPython.core.display.HTML object>"
      ]
     },
     "metadata": {},
     "output_type": "display_data"
    },
    {
     "data": {
      "image/png": "[encoded data removed]",
      "text/plain": [
       "<Figure size 800x500 with 1 Axes>"
      ]
     },
     "metadata": {},
     "output_type": "display_data"
    }
   ],
   "source": [
    "plot_model(best_recall_model, plot = 'feature')"
   ]
  },
  {
   "cell_type": "code",
   "execution_count": 47,
   "id": "5193254b",
   "metadata": {
    "scrolled": false
   },
   "outputs": [
    {
     "data": {
      "text/html": [],
      "text/plain": [
       "<IPython.core.display.HTML object>"
      ]
     },
     "metadata": {},
     "output_type": "display_data"
    },
    {
     "data": {
      "image/png": "[encoded data removed]",
      "text/plain": [
       "<Figure size 800x550 with 1 Axes>"
      ]
     },
     "metadata": {},
     "output_type": "display_data"
    }
   ],
   "source": [
    "plot_model(best_recall_model, plot = 'confusion_matrix')"
   ]
  },
  {
   "cell_type": "code",
   "execution_count": 48,
   "id": "9bbd96e9",
   "metadata": {},
   "outputs": [
    {
     "data": {
      "text/html": [],
      "text/plain": [
       "<IPython.core.display.HTML object>"
      ]
     },
     "metadata": {},
     "output_type": "display_data"
    },
    {
     "data": {
      "image/png": "[encoded data removed]",
      "text/plain": [
       "<Figure size 800x550 with 2 Axes>"
      ]
     },
     "metadata": {},
     "output_type": "display_data"
    }
   ],
   "source": [
    "plot_model(best_recall_model, plot = 'class_report')"
   ]
  },
  {
   "cell_type": "code",
   "execution_count": 49,
   "id": "29f65dda",
   "metadata": {},
   "outputs": [
    {
     "data": {
      "text/html": [],
      "text/plain": [
       "<IPython.core.display.HTML object>"
      ]
     },
     "metadata": {},
     "output_type": "display_data"
    },
    {
     "data": {
      "image/png": "[encoded data removed]",
      "text/plain": [
       "<Figure size 800x550 with 1 Axes>"
      ]
     },
     "metadata": {},
     "output_type": "display_data"
    }
   ],
   "source": [
    "plot_model(best_recall_model, plot = 'learning')"
   ]
  },
  {
   "cell_type": "code",
   "execution_count": 50,
   "id": "91f902fe",
   "metadata": {},
   "outputs": [
    {
     "data": {
      "text/html": [],
      "text/plain": [
       "<IPython.core.display.HTML object>"
      ]
     },
     "metadata": {},
     "output_type": "display_data"
    },
    {
     "data": {
      "image/png": "[encoded data removed]",
      "text/plain": [
       "<Figure size 800x550 with 1 Axes>"
      ]
     },
     "metadata": {},
     "output_type": "display_data"
    }
   ],
   "source": [
    "plot_model(best_recall_model, plot = 'vc')"
   ]
  },
  {
   "cell_type": "code",
   "execution_count": 51,
   "id": "a9873daf",
   "metadata": {},
   "outputs": [
    {
     "data": {
      "text/html": [],
      "text/plain": [
       "<IPython.core.display.HTML object>"
      ]
     },
     "metadata": {},
     "output_type": "display_data"
    },
    {
     "data": {
      "image/png": "[encoded data removed]",
      "text/plain": [
       "<Figure size 800x550 with 1 Axes>"
      ]
     },
     "metadata": {},
     "output_type": "display_data"
    }
   ],
   "source": [
    "plot_model(best_recall_model, plot = 'rfe')"
   ]
  },
  {
   "cell_type": "code",
   "execution_count": null,
   "id": "0baa1ae8",
   "metadata": {},
   "outputs": [],
   "source": []
  }
 ],
 "metadata": {
  "kernelspec": {
   "display_name": "Python 3 (ipykernel)",
   "language": "python",
   "name": "python3"
  },
  "language_info": {
   "codemirror_mode": {
    "name": "ipython",
    "version": 3
   },
   "file_extension": ".py",
   "mimetype": "text/x-python",
   "name": "python",
   "nbconvert_exporter": "python",
   "pygments_lexer": "ipython3",
   "version": "3.8.13"
  }
 },
 "nbformat": 4,
 "nbformat_minor": 5
}
